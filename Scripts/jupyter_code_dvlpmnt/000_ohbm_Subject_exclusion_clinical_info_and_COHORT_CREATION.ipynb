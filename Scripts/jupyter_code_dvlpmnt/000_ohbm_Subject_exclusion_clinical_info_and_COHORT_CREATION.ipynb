{
 "cells": [
  {
   "cell_type": "code",
   "execution_count": 1,
   "metadata": {},
   "outputs": [],
   "source": [
    "import pandas as pd\n",
    "import seaborn as sns \n",
    "import matplotlib.pyplot as plt \n",
    "import numpy as np\n",
    "import os "
   ]
  },
  {
   "cell_type": "markdown",
   "metadata": {},
   "source": [
    "# Subject exclusion: overall"
   ]
  },
  {
   "cell_type": "code",
   "execution_count": 2,
   "metadata": {},
   "outputs": [
    {
     "name": "stdout",
     "output_type": "stream",
     "text": [
      "dMRI\n",
      "Number of single sublects: 783\n",
      "Number of subjects with dMRI that passes visual QC: 673\n",
      "Number without otherwise missing: 658\n",
      "Number of subjects with radiological score 0-3: 591\n",
      "\n",
      "OUTCOMES\n",
      "Number of unique subjects with OUTCOMES: 726\n",
      "Number of unique subjects with OUTCOMES within 17-20 months range: 576\n",
      "\n",
      "INTERSECTION\n",
      "Number of subjects with dMRI & radiological score 1-3 & outcome: 378\n"
     ]
    }
   ],
   "source": [
    "df = pd.read_csv('../../SourceData/release3_subject_info.tsv', sep='\\t')\n",
    "\n",
    "## first drop records for multi session subjects keeping the first session (higher id)\n",
    "#df = df.loc[df.groupby('participant_id ')['session_id '].idxmax()]\n",
    "df = df.loc[df.groupby('participant_id ')['session_id '].idxmin()]\n",
    "\n",
    "print('dMRI')\n",
    "print('Number of single sublects: {}'.format(len(df)))\n",
    "\n",
    "## keep only columns that are of interest (no eddy, smri, fmri)\n",
    "to_keep = [col for col in df.columns if 'fmri' not in col]\n",
    "to_keep = [col for col in to_keep if 'eddy' not in col]\n",
    "to_keep = [col for col in to_keep if 'smri' not in col]\n",
    "\n",
    "df = df[to_keep] \n",
    "\n",
    "## remove rows that failed visual assessment \n",
    "df = df[df['qc_dmri_shard_fail_visual_qc '] == 'False ']\n",
    "print('Number of subjects with dMRI that passes visual QC: {}'.format(len(df)))\n",
    "\n",
    "## otherwise missing \n",
    "df = df[ ~ df['qc_dmri_shard_snr '].isna()]\n",
    "print('Number without otherwise missing: {}'.format(len(df)))\n",
    "\n",
    "## remove subjects with radiological score < 4\n",
    "df = df[df['radiology_score '] <  4]\n",
    "print('Number of subjects with radiological score 0-3: {}'.format(len(df)))\n",
    "\n",
    "## OUTCOMES\n",
    "print('\\nOUTCOMES')\n",
    "outcomes = pd.read_csv('../../SourceData/subject_outcomes.csv')\n",
    "outcomes = outcomes.dropna(subset=outcomes.columns[1:])\n",
    "print('Number of unique subjects with OUTCOMES: {}'.format(len(np.unique(outcomes['Participant ID'].values))))\n",
    "\n",
    "outcomes.rename(columns={'Participant ID': 'participant_id ', \n",
    "                        'Composite Score': 'Cognitive Composite Score'\n",
    "                        }, inplace=True)\n",
    "\n",
    "outcomes = outcomes[['participant_id ', 'Cognitive Composite Score', \n",
    "                     'Communication Composite Score', 'Motor Composite Score' ]]\n",
    "\n",
    "## remove subjects that are outside 17-20 range for age at assessment\n",
    "a = pd.read_csv('../../SourceData/DHCPNDH1-TomArichiSaraNeumane_DATA_2021-12-16_1359.csv', low_memory=False)\n",
    "a = a[['participationid','age_at_assess_m']].dropna()\n",
    "a = a[(a.age_at_assess_m >= 17) & (a.age_at_assess_m <= 20)]\n",
    "within_range = a.participationid.values\n",
    "\n",
    "outcomes = outcomes[outcomes['participant_id '].isin(within_range)]\n",
    "print('Number of unique subjects with OUTCOMES within 17-20 months range: {}'.format(\n",
    "                len(np.unique(outcomes['participant_id '].values))))\n",
    "\n",
    "\n",
    "\n",
    "print('\\nINTERSECTION')\n",
    "\n",
    "subj_ids =outcomes['participant_id '].values\n",
    "subj_ids = [subj_id+' ' for subj_id in subj_ids]\n",
    "\n",
    "df = df[df['participant_id '].isin(subj_ids)]\n",
    "print('Number of subjects with dMRI & radiological score 1-3 & outcome: {}'.format(len(df)))\n",
    "\n",
    "df['participant_id '] = df['participant_id '].str.replace(' ', '')\n",
    "df = pd.merge(df, outcomes, on='participant_id ', how='inner')\n",
    "\n",
    "df['birth_age '] = df['birth_age '].astype(np.float32)\n",
    "df['scan_age '] = df['scan_age '].astype(np.float32)\n",
    "\n",
    "df['group'] = 'FT'\n",
    "df.loc[df['birth_age '] < 37, 'group'] = 'PT'\n",
    "\n",
    "df['template'] = 39\n",
    "df.loc[df['scan_age '] < 37.5, 'template'] = 36\n",
    "df.loc[df['scan_age '] < 34.5, 'template'] = 33\n"
   ]
  },
  {
   "cell_type": "markdown",
   "metadata": {},
   "source": [
    "### Quantify number of subjects per template:"
   ]
  },
  {
   "cell_type": "code",
   "execution_count": 3,
   "metadata": {},
   "outputs": [
    {
     "data": {
      "text/plain": [
       "template\n",
       "33     18\n",
       "36     42\n",
       "39    318\n",
       "Name: participant_id , dtype: int64"
      ]
     },
     "execution_count": 3,
     "metadata": {},
     "output_type": "execute_result"
    }
   ],
   "source": [
    "df.groupby('template').count()['participant_id ']"
   ]
  },
  {
   "cell_type": "code",
   "execution_count": 4,
   "metadata": {},
   "outputs": [],
   "source": [
    "## write subject, id files for DTI etc \n",
    "#f = '../../DerivedData/replication_cohort_all_subjects_new.csv'\n",
    "#if os.path.exists(f):\n",
    "#    os.remove(f)\n",
    "    \n",
    "#df2 = df[['participant_id ', 'session_id ', 'template']]\n",
    "#df2.to_csv(f, index=False, header=False)"
   ]
  },
  {
   "cell_type": "markdown",
   "metadata": {},
   "source": [
    "**there are 8 subjects whose anat is missing in the dHCP**<br>\n",
    "**remove them before the plotting as they won't appear in the Cohort A**"
   ]
  },
  {
   "cell_type": "code",
   "execution_count": 5,
   "metadata": {},
   "outputs": [
    {
     "data": {
      "text/plain": [
       "template\n",
       "33     18\n",
       "36     41\n",
       "39    311\n",
       "Name: participant_id , dtype: int64"
      ]
     },
     "execution_count": 5,
     "metadata": {},
     "output_type": "execute_result"
    }
   ],
   "source": [
    "final_sub_list = pd.read_csv('../../DerivedData/replication_cohort_all_subjects_current.csv', \n",
    "                                         names=['subject_id', 'session_id', 'template'])\n",
    "df = df[df['participant_id '].isin(final_sub_list.subject_id.values)]\n",
    "df.groupby('template').count()['participant_id ']"
   ]
  },
  {
   "cell_type": "code",
   "execution_count": 10,
   "metadata": {},
   "outputs": [
    {
     "data": {
      "text/html": [
       "<div>\n",
       "<style scoped>\n",
       "    .dataframe tbody tr th:only-of-type {\n",
       "        vertical-align: middle;\n",
       "    }\n",
       "\n",
       "    .dataframe tbody tr th {\n",
       "        vertical-align: top;\n",
       "    }\n",
       "\n",
       "    .dataframe thead th {\n",
       "        text-align: right;\n",
       "    }\n",
       "</style>\n",
       "<table border=\"1\" class=\"dataframe\">\n",
       "  <thead>\n",
       "    <tr style=\"text-align: right;\">\n",
       "      <th></th>\n",
       "      <th>participant_id</th>\n",
       "      <th>session_id</th>\n",
       "      <th>scan_number</th>\n",
       "      <th>singleton</th>\n",
       "      <th>sedation</th>\n",
       "      <th>birth_age</th>\n",
       "      <th>scan_age</th>\n",
       "      <th>sex</th>\n",
       "      <th>birth_weight</th>\n",
       "      <th>head_circumference_scan</th>\n",
       "      <th>...</th>\n",
       "      <th>qc_dmri_shard_rotation</th>\n",
       "      <th>qc_dmri_shard_outlier_ratio</th>\n",
       "      <th>qc_dmri_shard_fail_visual_qc</th>\n",
       "      <th>qc_dmri_shard_comments</th>\n",
       "      <th>qc_dmri_shard_comments_recon</th>\n",
       "      <th>Cognitive Composite Score</th>\n",
       "      <th>Communication Composite Score</th>\n",
       "      <th>Motor Composite Score</th>\n",
       "      <th>group</th>\n",
       "      <th>template</th>\n",
       "    </tr>\n",
       "  </thead>\n",
       "  <tbody>\n",
       "    <tr>\n",
       "      <th>282</th>\n",
       "      <td>CC00657XX14</td>\n",
       "      <td>193700</td>\n",
       "      <td>1</td>\n",
       "      <td>S</td>\n",
       "      <td>False</td>\n",
       "      <td>28.142857</td>\n",
       "      <td>29.860001</td>\n",
       "      <td>male</td>\n",
       "      <td>1.255</td>\n",
       "      <td>28.0</td>\n",
       "      <td>...</td>\n",
       "      <td>0.194331</td>\n",
       "      <td>0.153525</td>\n",
       "      <td>False</td>\n",
       "      <td>NaN</td>\n",
       "      <td>NaN</td>\n",
       "      <td>80.0</td>\n",
       "      <td>86.0</td>\n",
       "      <td>91.0</td>\n",
       "      <td>PT</td>\n",
       "      <td>33</td>\n",
       "    </tr>\n",
       "    <tr>\n",
       "      <th>272</th>\n",
       "      <td>CC00618XX16</td>\n",
       "      <td>177201</td>\n",
       "      <td>1</td>\n",
       "      <td>S</td>\n",
       "      <td>False</td>\n",
       "      <td>27.428572</td>\n",
       "      <td>29.860001</td>\n",
       "      <td>female</td>\n",
       "      <td>0.760</td>\n",
       "      <td>24.4</td>\n",
       "      <td>...</td>\n",
       "      <td>0.091927</td>\n",
       "      <td>0.058931</td>\n",
       "      <td>False</td>\n",
       "      <td>NaN</td>\n",
       "      <td>NaN</td>\n",
       "      <td>85.0</td>\n",
       "      <td>112.0</td>\n",
       "      <td>100.0</td>\n",
       "      <td>PT</td>\n",
       "      <td>33</td>\n",
       "    </tr>\n",
       "    <tr>\n",
       "      <th>158</th>\n",
       "      <td>CC00389XX19</td>\n",
       "      <td>119100</td>\n",
       "      <td>1</td>\n",
       "      <td>S</td>\n",
       "      <td>False</td>\n",
       "      <td>28.714285</td>\n",
       "      <td>29.860001</td>\n",
       "      <td>male</td>\n",
       "      <td>0.825</td>\n",
       "      <td>25.5</td>\n",
       "      <td>...</td>\n",
       "      <td>0.271315</td>\n",
       "      <td>0.188976</td>\n",
       "      <td>False</td>\n",
       "      <td>NaN</td>\n",
       "      <td>NaN</td>\n",
       "      <td>95.0</td>\n",
       "      <td>94.0</td>\n",
       "      <td>91.0</td>\n",
       "      <td>PT</td>\n",
       "      <td>33</td>\n",
       "    </tr>\n",
       "    <tr>\n",
       "      <th>323</th>\n",
       "      <td>CC00830XX14</td>\n",
       "      <td>18910</td>\n",
       "      <td>1</td>\n",
       "      <td>S</td>\n",
       "      <td>False</td>\n",
       "      <td>30.428572</td>\n",
       "      <td>31.139999</td>\n",
       "      <td>female</td>\n",
       "      <td>1.350</td>\n",
       "      <td>28.0</td>\n",
       "      <td>...</td>\n",
       "      <td>0.097038</td>\n",
       "      <td>0.234562</td>\n",
       "      <td>False</td>\n",
       "      <td>NaN</td>\n",
       "      <td>NaN</td>\n",
       "      <td>100.0</td>\n",
       "      <td>91.0</td>\n",
       "      <td>94.0</td>\n",
       "      <td>PT</td>\n",
       "      <td>33</td>\n",
       "    </tr>\n",
       "    <tr>\n",
       "      <th>111</th>\n",
       "      <td>CC00284BN13</td>\n",
       "      <td>90801</td>\n",
       "      <td>1</td>\n",
       "      <td>M</td>\n",
       "      <td>False</td>\n",
       "      <td>30.714285</td>\n",
       "      <td>32.290001</td>\n",
       "      <td>male</td>\n",
       "      <td>1.050</td>\n",
       "      <td>25.5</td>\n",
       "      <td>...</td>\n",
       "      <td>0.074730</td>\n",
       "      <td>0.108171</td>\n",
       "      <td>False</td>\n",
       "      <td>NaN</td>\n",
       "      <td>NaN</td>\n",
       "      <td>100.0</td>\n",
       "      <td>115.0</td>\n",
       "      <td>97.0</td>\n",
       "      <td>PT</td>\n",
       "      <td>33</td>\n",
       "    </tr>\n",
       "    <tr>\n",
       "      <th>...</th>\n",
       "      <td>...</td>\n",
       "      <td>...</td>\n",
       "      <td>...</td>\n",
       "      <td>...</td>\n",
       "      <td>...</td>\n",
       "      <td>...</td>\n",
       "      <td>...</td>\n",
       "      <td>...</td>\n",
       "      <td>...</td>\n",
       "      <td>...</td>\n",
       "      <td>...</td>\n",
       "      <td>...</td>\n",
       "      <td>...</td>\n",
       "      <td>...</td>\n",
       "      <td>...</td>\n",
       "      <td>...</td>\n",
       "      <td>...</td>\n",
       "      <td>...</td>\n",
       "      <td>...</td>\n",
       "      <td>...</td>\n",
       "      <td>...</td>\n",
       "    </tr>\n",
       "    <tr>\n",
       "      <th>112</th>\n",
       "      <td>CC00286XX15</td>\n",
       "      <td>91700</td>\n",
       "      <td>1</td>\n",
       "      <td>S</td>\n",
       "      <td>True</td>\n",
       "      <td>40.857143</td>\n",
       "      <td>44.430000</td>\n",
       "      <td>male</td>\n",
       "      <td>4.000</td>\n",
       "      <td>38.5</td>\n",
       "      <td>...</td>\n",
       "      <td>0.073637</td>\n",
       "      <td>0.213666</td>\n",
       "      <td>False</td>\n",
       "      <td>NaN</td>\n",
       "      <td>NaN</td>\n",
       "      <td>100.0</td>\n",
       "      <td>79.0</td>\n",
       "      <td>97.0</td>\n",
       "      <td>FT</td>\n",
       "      <td>39</td>\n",
       "    </tr>\n",
       "    <tr>\n",
       "      <th>74</th>\n",
       "      <td>CC00184XX12</td>\n",
       "      <td>60501</td>\n",
       "      <td>1</td>\n",
       "      <td>S</td>\n",
       "      <td>False</td>\n",
       "      <td>41.285713</td>\n",
       "      <td>44.709999</td>\n",
       "      <td>female</td>\n",
       "      <td>3.700</td>\n",
       "      <td>36.5</td>\n",
       "      <td>...</td>\n",
       "      <td>0.184540</td>\n",
       "      <td>0.140481</td>\n",
       "      <td>False</td>\n",
       "      <td>NaN</td>\n",
       "      <td>NaN</td>\n",
       "      <td>100.0</td>\n",
       "      <td>91.0</td>\n",
       "      <td>97.0</td>\n",
       "      <td>FT</td>\n",
       "      <td>39</td>\n",
       "    </tr>\n",
       "    <tr>\n",
       "      <th>369</th>\n",
       "      <td>CC01145XX16</td>\n",
       "      <td>98330</td>\n",
       "      <td>1</td>\n",
       "      <td>S</td>\n",
       "      <td>False</td>\n",
       "      <td>37.714287</td>\n",
       "      <td>44.709999</td>\n",
       "      <td>female</td>\n",
       "      <td>2.470</td>\n",
       "      <td>35.8</td>\n",
       "      <td>...</td>\n",
       "      <td>0.337133</td>\n",
       "      <td>0.234539</td>\n",
       "      <td>False</td>\n",
       "      <td>NaN</td>\n",
       "      <td>NaN</td>\n",
       "      <td>105.0</td>\n",
       "      <td>97.0</td>\n",
       "      <td>115.0</td>\n",
       "      <td>FT</td>\n",
       "      <td>39</td>\n",
       "    </tr>\n",
       "    <tr>\n",
       "      <th>77</th>\n",
       "      <td>CC00186BN14</td>\n",
       "      <td>61000</td>\n",
       "      <td>1</td>\n",
       "      <td>M</td>\n",
       "      <td>False</td>\n",
       "      <td>36.428570</td>\n",
       "      <td>45.139999</td>\n",
       "      <td>female</td>\n",
       "      <td>1.530</td>\n",
       "      <td>36.0</td>\n",
       "      <td>...</td>\n",
       "      <td>0.258819</td>\n",
       "      <td>0.303875</td>\n",
       "      <td>False</td>\n",
       "      <td>NaN</td>\n",
       "      <td>NaN</td>\n",
       "      <td>110.0</td>\n",
       "      <td>83.0</td>\n",
       "      <td>100.0</td>\n",
       "      <td>PT</td>\n",
       "      <td>39</td>\n",
       "    </tr>\n",
       "    <tr>\n",
       "      <th>76</th>\n",
       "      <td>CC00186AN14</td>\n",
       "      <td>60900</td>\n",
       "      <td>1</td>\n",
       "      <td>M</td>\n",
       "      <td>False</td>\n",
       "      <td>36.428570</td>\n",
       "      <td>45.139999</td>\n",
       "      <td>female</td>\n",
       "      <td>2.040</td>\n",
       "      <td>37.2</td>\n",
       "      <td>...</td>\n",
       "      <td>0.104106</td>\n",
       "      <td>0.297356</td>\n",
       "      <td>False</td>\n",
       "      <td>NaN</td>\n",
       "      <td>NaN</td>\n",
       "      <td>95.0</td>\n",
       "      <td>91.0</td>\n",
       "      <td>107.0</td>\n",
       "      <td>PT</td>\n",
       "      <td>39</td>\n",
       "    </tr>\n",
       "  </tbody>\n",
       "</table>\n",
       "<p>370 rows × 25 columns</p>\n",
       "</div>"
      ],
      "text/plain": [
       "    participant_id   session_id   scan_number  singleton  sedation   \\\n",
       "282     CC00657XX14       193700             1         S     False    \n",
       "272     CC00618XX16       177201             1         S     False    \n",
       "158     CC00389XX19       119100             1         S     False    \n",
       "323     CC00830XX14        18910             1         S     False    \n",
       "111     CC00284BN13        90801             1         M     False    \n",
       "..              ...          ...           ...        ...       ...   \n",
       "112     CC00286XX15        91700             1         S      True    \n",
       "74      CC00184XX12        60501             1         S     False    \n",
       "369     CC01145XX16        98330             1         S     False    \n",
       "77      CC00186BN14        61000             1         M     False    \n",
       "76      CC00186AN14        60900             1         M     False    \n",
       "\n",
       "     birth_age   scan_age      sex   birth_weight   head_circumference_scan   \\\n",
       "282   28.142857  29.860001    male           1.255                      28.0   \n",
       "272   27.428572  29.860001  female           0.760                      24.4   \n",
       "158   28.714285  29.860001    male           0.825                      25.5   \n",
       "323   30.428572  31.139999  female           1.350                      28.0   \n",
       "111   30.714285  32.290001    male           1.050                      25.5   \n",
       "..          ...        ...      ...            ...                       ...   \n",
       "112   40.857143  44.430000    male           4.000                      38.5   \n",
       "74    41.285713  44.709999  female           3.700                      36.5   \n",
       "369   37.714287  44.709999  female           2.470                      35.8   \n",
       "77    36.428570  45.139999  female           1.530                      36.0   \n",
       "76    36.428570  45.139999  female           2.040                      37.2   \n",
       "\n",
       "     ...  qc_dmri_shard_rotation   qc_dmri_shard_outlier_ratio   \\\n",
       "282  ...                 0.194331                      0.153525   \n",
       "272  ...                 0.091927                      0.058931   \n",
       "158  ...                 0.271315                      0.188976   \n",
       "323  ...                 0.097038                      0.234562   \n",
       "111  ...                 0.074730                      0.108171   \n",
       "..   ...                      ...                           ...   \n",
       "112  ...                 0.073637                      0.213666   \n",
       "74   ...                 0.184540                      0.140481   \n",
       "369  ...                 0.337133                      0.234539   \n",
       "77   ...                 0.258819                      0.303875   \n",
       "76   ...                 0.104106                      0.297356   \n",
       "\n",
       "    qc_dmri_shard_fail_visual_qc   qc_dmri_shard_comments   \\\n",
       "282                        False                       NaN   \n",
       "272                        False                       NaN   \n",
       "158                        False                       NaN   \n",
       "323                        False                       NaN   \n",
       "111                        False                       NaN   \n",
       "..                            ...                      ...   \n",
       "112                        False                       NaN   \n",
       "74                         False                       NaN   \n",
       "369                        False                       NaN   \n",
       "77                         False                       NaN   \n",
       "76                         False                       NaN   \n",
       "\n",
       "     qc_dmri_shard_comments_recon   Cognitive Composite Score  \\\n",
       "282                            NaN                       80.0   \n",
       "272                            NaN                       85.0   \n",
       "158                            NaN                       95.0   \n",
       "323                            NaN                      100.0   \n",
       "111                            NaN                      100.0   \n",
       "..                             ...                        ...   \n",
       "112                            NaN                      100.0   \n",
       "74                             NaN                      100.0   \n",
       "369                            NaN                      105.0   \n",
       "77                             NaN                      110.0   \n",
       "76                             NaN                       95.0   \n",
       "\n",
       "     Communication Composite Score Motor Composite Score group template  \n",
       "282                           86.0                  91.0    PT       33  \n",
       "272                          112.0                 100.0    PT       33  \n",
       "158                           94.0                  91.0    PT       33  \n",
       "323                           91.0                  94.0    PT       33  \n",
       "111                          115.0                  97.0    PT       33  \n",
       "..                             ...                   ...   ...      ...  \n",
       "112                           79.0                  97.0    FT       39  \n",
       "74                            91.0                  97.0    FT       39  \n",
       "369                           97.0                 115.0    FT       39  \n",
       "77                            83.0                 100.0    PT       39  \n",
       "76                            91.0                 107.0    PT       39  \n",
       "\n",
       "[370 rows x 25 columns]"
      ]
     },
     "execution_count": 10,
     "metadata": {},
     "output_type": "execute_result"
    }
   ],
   "source": [
    "### get 3 youngest and 3 oldes PMA at scan for registration QC\n",
    "df.sort_values(by='scan_age ')[:]"
   ]
  },
  {
   "cell_type": "markdown",
   "metadata": {},
   "source": [
    "# Subject exclusion:  clinical information"
   ]
  },
  {
   "cell_type": "code",
   "execution_count": 11,
   "metadata": {},
   "outputs": [],
   "source": [
    "#!pip install openpyxl \n",
    "\n",
    "df = pd.read_csv('../../DerivedData/replication_cohort_all_subjects_current.csv', names=['subject_id', 'session_id', 'template'])\n",
    "# remove the bad metrics\n",
    "bad = pd.read_csv('../../DerivedData/failed_metric_QC.csv', names=['subject_id'])\n",
    "df = df[~ df.subject_id.isin(bad.subject_id.values)]"
   ]
  },
  {
   "cell_type": "markdown",
   "metadata": {},
   "source": [
    "## get clinical data for descriptive tables "
   ]
  },
  {
   "cell_type": "code",
   "execution_count": 12,
   "metadata": {},
   "outputs": [],
   "source": [
    "clinical = pd.DataFrame()\n",
    "\n",
    "for i, row in df.iterrows():\n",
    "    clinical.loc[i, 'subject_id'] = row.subject_id \n",
    "    clinical.loc[i, 'session_id'] = row.session_id\n",
    "    clinical.loc[i, 'template'] = row.template\n",
    "    \n",
    "clinical['session_id'] = clinical['session_id'].astype(int)"
   ]
  },
  {
   "cell_type": "code",
   "execution_count": 13,
   "metadata": {},
   "outputs": [],
   "source": [
    "info = pd.read_csv('../../SourceData/release3_subject_info.tsv', sep='\\t')\n",
    "\n",
    "for i, row in df.iterrows():\n",
    "    \n",
    "    clinical.loc[i, 'PMA_scan'] = info[(info['participant_id '] == row.subject_id+' ') & (info['session_id '] == row.session_id)]['scan_age '].values[0]\n",
    "    clinical.loc[i, 'GA_birth'] = info[(info['participant_id '] == row.subject_id+' ') & (info['session_id '] == row.session_id)]['birth_age '].values[0]\n",
    "    clinical.loc[i, 'Sex'] = info[(info['participant_id '] == row.subject_id+' ') & (info['session_id '] == row.session_id)]['sex '].values[0]\n",
    "    clinical.loc[i, 'Weight_birth'] = info[(info['participant_id '] == row.subject_id+' ') & (info['session_id '] == row.session_id)]['birth_weight '].values[0]\n",
    "    clinical.loc[i, 'Radiology_score'] = info[(info['participant_id '] == row.subject_id+' ') & (info['session_id '] == row.session_id)]['radiology_score '].values[0]"
   ]
  },
  {
   "cell_type": "markdown",
   "metadata": {},
   "source": [
    "##### for the other ones I will need the clinical data file from Sara/Tom"
   ]
  },
  {
   "cell_type": "code",
   "execution_count": 14,
   "metadata": {},
   "outputs": [],
   "source": [
    "info = pd.read_csv('../../SourceData/descriptive_data_labels.csv', low_memory=False)\n",
    "info = info.dropna(axis=1, how='all')\n",
    "info = info[info['Participant ID'].isin(df.subject_id.values)]"
   ]
  },
  {
   "cell_type": "code",
   "execution_count": 15,
   "metadata": {},
   "outputs": [],
   "source": [
    "## race \n",
    "ethnicity = info.dropna(subset=[\"Mother's ethnicity\",\"Father's ethnicity\"])\n",
    "ethnicity = ethnicity[['Participant ID', 'Event Name', \"Mother's ethnicity\",\"Father's ethnicity\"]]\n",
    "\n",
    "for i,row in df.iterrows():\n",
    "    \n",
    "    mother = ethnicity[ethnicity['Participant ID'] == row.subject_id][\"Mother's ethnicity\"].values[0]\n",
    "    father = ethnicity[ethnicity['Participant ID'] == row.subject_id][\"Father's ethnicity\"].values[0]\n",
    "    \n",
    "    mother = mother.split('-')[0].rstrip()\n",
    "    father = father.split('-')[0].rstrip()\n",
    "    \n",
    "    \n",
    "    clinical.loc[i, 'ethnicity_mother'] = mother\n",
    "    clinical.loc[i, 'ethnicity_father'] = father\n",
    "    \n",
    "    #if mother == father:\n",
    "    #    clinical.loc[i, 'Race'] = mother\n",
    "        \n",
    "    #else: \n",
    "    #    clinical.loc[i, 'Race'] = 'Other'\n",
    "    \n",
    "## mode of delivery \n",
    "\n",
    "ethnicity = info[['Participant ID', 'Event Name', \"Baby delivery method\",\"Mode of delivery\"]]\n",
    "ethnicity = ethnicity[ethnicity['Event Name'] == 'Baby Born']\n",
    "\n",
    "for i,row in df.iterrows():\n",
    "    delivery = ethnicity[ethnicity['Participant ID'] == row.subject_id][\"Baby delivery method\"].values[0]\n",
    "    \n",
    "    if delivery in ['Elective caesarean section']:\n",
    "        clinical.loc[i, 'Delivery'] = 'C_el'\n",
    "    if delivery in ['Emergency caesarean section - in labour', \n",
    "                   'Emergency caesarean section - not in labour']:\n",
    "        clinical.loc[i, 'Delivery'] = 'C_em'\n",
    "    elif delivery in ['Instrumental delivery - Forceps','Instrumental delivery - Ventous' ]:\n",
    "        clinical.loc[i, 'Delivery'] = 'I'\n",
    "    else:\n",
    "        clinical.loc[i, 'Delivery'] = 'V'"
   ]
  },
  {
   "cell_type": "markdown",
   "metadata": {},
   "source": [
    "##### exclusion criteria "
   ]
  },
  {
   "cell_type": "code",
   "execution_count": 16,
   "metadata": {},
   "outputs": [],
   "source": [
    "## radiology score - from subjects tsv \n",
    "\n",
    "## drug/alcohol abuse \n",
    "cols = ['Participant ID','Does the mother currently smoke?', 'Does the mother currently drink alcohol']\n",
    "ethnicity = info[cols].dropna()\n",
    "\n",
    "for i,row in df.iterrows():\n",
    "    \n",
    "    smoke = ethnicity[ethnicity['Participant ID'] == row.subject_id]['Does the mother currently smoke?'].values[0]\n",
    "    if smoke != 'Yes':\n",
    "        smoke = 'No'\n",
    "    clinical.loc[i, 'Current_smore'] = smoke    \n",
    "    alcohol = ethnicity[ethnicity['Participant ID'] == row.subject_id]['Does the mother currently drink alcohol'].values[0]    \n",
    "    if alcohol != 'Yes':\n",
    "        alcohol = 'No'\n",
    "    clinical.loc[i, 'Current_alcohol'] = alcohol     \n",
    "    if alcohol == 'No' and smoke == 'No':\n",
    "        clinical.loc[i, 'Current_smoke_alcohol'] = 'No'\n",
    "    else:\n",
    "        clinical.loc[i, 'Current_smoke_alcohol'] = 'Yes'\n",
    "            \n",
    "## hypoxic–ischemic encephalopathy \n",
    "for i,row in df.iterrows():\n",
    "    clinical.loc[i, 'HIE' ] = 'No'\n",
    "\n",
    "\n",
    "## lung disease, or bronchopulmonary dysplasia \n",
    "\n",
    "ethnicity = info[['Participant ID', 'Total number of days when baby recorded as receiving any oxygen by any means']].dropna()\n",
    "for i, row in df.iterrows():\n",
    "    \n",
    "    oxygen = ethnicity[ethnicity['Participant ID'] == row.subject_id]['Total number of days when baby recorded as receiving any oxygen by any means'].values\n",
    "    \n",
    "    if len(oxygen) > 0:\n",
    "        oxygen = oxygen[0]\n",
    "    else: \n",
    "        oxygen = 0.\n",
    "    if oxygen > 90:\n",
    "        oxygen = 0\n",
    "        \n",
    "    clinical.loc[i, 'oxygen_days'] = oxygen\n",
    "    if oxygen > 0 :\n",
    "        clinical.loc[i, 'lung_disease'] = 'Yes'\n",
    "    else: \n",
    "        clinical.loc[i, 'lung_disease'] = 'No'\n",
    "\n",
    "ethnicity = info[['Participant ID', 'Necrotising enterocolitis was suspected or confirmed on any day in this episode. ']].dropna()\n",
    "for i, row in df.iterrows():\n",
    "    ni = ethnicity[ethnicity['Participant ID'] == row.subject_id]['Necrotising enterocolitis was suspected or confirmed on any day in this episode. '].values\n",
    "    \n",
    "    if len(ni) == 0:\n",
    "        ni ='No'\n",
    "    elif ni[0] == 'None':\n",
    "        ni = 'No'\n",
    "    else:\n",
    "        ni = 'Yes'\n",
    "        \n",
    "    clinical.loc[i, 'Necrotising_enterocolitis'] = ni"
   ]
  },
  {
   "cell_type": "markdown",
   "metadata": {},
   "source": [
    "#### add the outcome scores "
   ]
  },
  {
   "cell_type": "code",
   "execution_count": 17,
   "metadata": {},
   "outputs": [],
   "source": [
    "## OUTCOMES\n",
    "outcomes = pd.read_csv('../../SourceData/subject_outcomes.csv')\n",
    "outcomes = outcomes.dropna(subset=outcomes.columns[1:])\n",
    "outcomes.rename(columns={'Participant ID': 'participant_id ', \n",
    "                        'Composite Score': 'Cognitive Composite Score'\n",
    "                        }, inplace=True)\n",
    "\n",
    "outcomes = outcomes[['participant_id ', 'Cognitive Composite Score', \n",
    "                     'Communication Composite Score', 'Motor Composite Score' ]]\n",
    "\n",
    "for i, row in clinical.iterrows():\n",
    "    clinical.loc[i, 'Cognitive Score'] = outcomes[outcomes['participant_id '] == row.subject_id]['Cognitive Composite Score'].values[0]\n",
    "    clinical.loc[i, 'Language Score']= outcomes[outcomes['participant_id '] == row.subject_id]['Communication Composite Score'].values[0]\n",
    "    clinical.loc[i, 'Motor Score']= outcomes[outcomes['participant_id ']== row.subject_id ]['Motor Composite Score'].values[0]"
   ]
  },
  {
   "cell_type": "markdown",
   "metadata": {},
   "source": [
    "### if we use exclusion criteria: "
   ]
  },
  {
   "cell_type": "code",
   "execution_count": 20,
   "metadata": {},
   "outputs": [],
   "source": [
    "exclude= []\n",
    "\n",
    "for i, row in clinical.iterrows():\n",
    "    \n",
    "    if row.Current_smoke_alcohol != 'No' or row.HIE != 'No' or row.lung_disease != 'No' or row.Necrotising_enterocolitis != 'No':\n",
    "        exclude.append(row.subject_id)"
   ]
  },
  {
   "cell_type": "code",
   "execution_count": 21,
   "metadata": {},
   "outputs": [],
   "source": [
    "ex = clinical[clinical.subject_id.isin(exclude)]"
   ]
  },
  {
   "cell_type": "code",
   "execution_count": 22,
   "metadata": {},
   "outputs": [
    {
     "name": "stdout",
     "output_type": "stream",
     "text": [
      "Current smoke/alcohol: 37\n",
      "HIE: 0\n",
      "Lung Disease: 29\n",
      "Necrotising enterocolitis: 2\n",
      "Combined to remove: 63\n"
     ]
    }
   ],
   "source": [
    "print('Current smoke/alcohol:', len(ex[ex.Current_smoke_alcohol == 'Yes']))\n",
    "print('HIE:', len(ex[ex.HIE == 'Yes']))\n",
    "print('Lung Disease:',len(ex[ex.lung_disease == 'Yes']))\n",
    "print('Necrotising enterocolitis:', len(ex[ex.Necrotising_enterocolitis == 'Yes']))\n",
    "\n",
    "print('Combined to remove:', len(ex))"
   ]
  },
  {
   "cell_type": "code",
   "execution_count": 23,
   "metadata": {},
   "outputs": [],
   "source": [
    "#clinical.to_csv('../../DerivedData/cohortA_subjects_clinical.csv')"
   ]
  },
  {
   "cell_type": "markdown",
   "metadata": {},
   "source": [
    "# Cohort creation "
   ]
  },
  {
   "cell_type": "code",
   "execution_count": 24,
   "metadata": {},
   "outputs": [],
   "source": [
    "df = pd.read_csv('../../DerivedData/cohortA_subjects_clinical.csv', index_col=0)"
   ]
  },
  {
   "cell_type": "code",
   "execution_count": 25,
   "metadata": {},
   "outputs": [],
   "source": [
    "## add age at assessment \n",
    "## remove subjects that are outside 17-20 range for age at assessment\n",
    "a = pd.read_csv('../../SourceData/DHCPNDH1-TomArichiSaraNeumane_DATA_2021-12-16_1359.csv', low_memory=False)\n",
    "a = a[['participationid','age_at_assess_m']].dropna()\n",
    "\n",
    "for i, row in df.iterrows():\n",
    "    df.loc[i, 'Age_BSID'] = a[a['participationid'] == row.subject_id]['age_at_assess_m'].values[0]"
   ]
  },
  {
   "cell_type": "code",
   "execution_count": 26,
   "metadata": {},
   "outputs": [],
   "source": [
    "### USE EXCLUSION CRITERIA \n",
    "exclude= []\n",
    "for i, row in df.iterrows():\n",
    "    \n",
    "    if row.Current_smoke_alcohol != 'No' or row.HIE != 'No' or row.lung_disease != 'No' or row.Necrotising_enterocolitis != 'No':\n",
    "        exclude.append(row.subject_id)\n",
    "        \n",
    "ex = df[df.subject_id.isin(exclude)]"
   ]
  },
  {
   "cell_type": "code",
   "execution_count": 27,
   "metadata": {},
   "outputs": [
    {
     "name": "stdout",
     "output_type": "stream",
     "text": [
      "Initial exclusions based on QC etc:  358\n",
      "\n",
      "\n",
      "Current smoke/alcohol: 37\n",
      "HIE: 0\n",
      "Lung Disease: 29\n",
      "Necrotising enterocolitis: 2\n",
      "Combined to remove: 63\n"
     ]
    }
   ],
   "source": [
    "print('Initial exclusions based on QC etc: ', len(df))\n",
    "print('\\n')\n",
    "\n",
    "print('Current smoke/alcohol:', len(ex[ex.Current_smoke_alcohol == 'Yes']))\n",
    "print('HIE:', len(ex[ex.HIE == 'Yes']))\n",
    "print('Lung Disease:',len(ex[ex.lung_disease == 'Yes']))\n",
    "print('Necrotising enterocolitis:', len(ex[ex.Necrotising_enterocolitis == 'Yes']))\n",
    "\n",
    "print('Combined to remove:', len(ex))\n",
    "\n",
    "### additionally, if we want to keep only radiology 2 and lower \n",
    "#print('\\n')\n",
    "#print('Subjects with radiology 3:', len(df[df.Radiology_score > 2]))\n",
    "\n",
    "#exclude.extend([subj for subj in df[df.Radiology_score > 2].subject_id.values])\n",
    "#print('Potential final to remove:', len(df[df.subject_id.isin(exclude)]) )"
   ]
  },
  {
   "cell_type": "markdown",
   "metadata": {},
   "source": [
    "### excluding alcohol/smoke use, HIE, lung disease, necrotising enterocolitis "
   ]
  },
  {
   "cell_type": "code",
   "execution_count": 29,
   "metadata": {},
   "outputs": [
    {
     "name": "stdout",
     "output_type": "stream",
     "text": [
      "Final number of subjects:  295\n"
     ]
    }
   ],
   "source": [
    "### Apply exclusion criteria:\n",
    "df = df[~df.subject_id.isin(exclude)]\n",
    "print('Final number of subjects: ', len(df))"
   ]
  },
  {
   "cell_type": "code",
   "execution_count": 30,
   "metadata": {},
   "outputs": [],
   "source": [
    "#for race\n",
    "for i, row in df.iterrows():\n",
    "    if row.ethnicity_mother == row.ethnicity_father:\n",
    "        df.loc[i, 'race'] = row.ethnicity_mother\n",
    "    else: \n",
    "        df.loc[i, 'race'] = 'Mixed'"
   ]
  },
  {
   "cell_type": "markdown",
   "metadata": {},
   "source": [
    "### Creating the cohorts"
   ]
  },
  {
   "cell_type": "code",
   "execution_count": 31,
   "metadata": {},
   "outputs": [],
   "source": [
    "cohorts = {}"
   ]
  },
  {
   "cell_type": "markdown",
   "metadata": {},
   "source": [
    "### Cohort A \n",
    "All available subjects except for baseline exclusion criteria "
   ]
  },
  {
   "cell_type": "code",
   "execution_count": 33,
   "metadata": {},
   "outputs": [
    {
     "name": "stdout",
     "output_type": "stream",
     "text": [
      "New cohort A (baseline): 295\n",
      "\n",
      "\n",
      "PMA_scan: mean 40.428 (2.446 std); median 40.860; [31.140, 45.140]\n",
      "GA_birth: mean 39.148 (2.361 std); median 39.857; [29.857, 42.286]\n",
      "Age_BSID: mean 18.173 (0.860 std); median 18.000; [17.000, 20.000]\n",
      "Weight_birth: mean 3.177 (0.689 std); median 3.295; [0.760, 4.610]\n",
      "Cognitive Score: mean 101.068 (11.175 std); median 100.000; [60.000, 130.000]\n",
      "Language Score: mean 97.044 (16.046 std); median 97.000; [47.000, 153.000]\n",
      "Motor Score: mean 101.654 (9.481 std); median 103.000; [70.000, 127.000]\n",
      "Male: 158 (53.559%)\n",
      "White: 158 (53.559%)\n",
      "Mode of delivery: V 155, I 67, Cem 73, Cel 0\n"
     ]
    }
   ],
   "source": [
    "print('New cohort A (baseline):', len(df))\n",
    "print('\\n')\n",
    "for col in ['PMA_scan', 'GA_birth', 'Age_BSID','Weight_birth', 'Cognitive Score', 'Language Score', 'Motor Score']:\n",
    "    print('{}: mean {:.3f} ({:.3f} std); median {:.3f}; [{:.3f}, {:.3f}]'.format(col,\n",
    "                    np.mean(df[col]), np.std(df[col]), np.median(df[col]), \n",
    "                    np.min(df[col]), np.max(df[col])))\n",
    "males = len(df[df.Sex =='male '])\n",
    "white = len(df[df.race == 'White'])\n",
    "print('Male: {} ({:.3f}%)'.format(males, (males*100)/len(df) ))\n",
    "print('White: {} ({:.3f}%)'.format(white, (white*100)/len(df) ))\n",
    "print('Mode of delivery: V {}, I {}, Cem {}, Cel {}'.format(\n",
    "            len(df[df.Delivery == 'V']), len(df[df.Delivery == 'I']),\n",
    "            len(df[df.Delivery == 'C_em']), len(df[df.Delivery == 'C_el']) ))\n",
    "\n",
    "cohorts['A'] = df.subject_id.values"
   ]
  },
  {
   "cell_type": "markdown",
   "metadata": {},
   "source": [
    "### cohort B \n",
    "Same as above except we set limits at scan ages to make them similar to eLife paper"
   ]
  },
  {
   "cell_type": "code",
   "execution_count": 34,
   "metadata": {},
   "outputs": [
    {
     "name": "stdout",
     "output_type": "stream",
     "text": [
      "Cohort B: 198\n",
      "\n",
      "\n",
      "PMA_scan: mean 39.310 (2.016 std); median 39.930; [32.290, 41.570]\n",
      "GA_birth: mean 38.530 (2.422 std); median 39.143; [29.857, 41.429]\n",
      "Weight_birth: mean 3.037 (0.703 std); median 3.110; [0.760, 4.590]\n",
      "Cognitive Score: mean 99.672 (11.349 std); median 100.000; [60.000, 130.000]\n",
      "Language Score: mean 95.227 (16.412 std); median 97.000; [47.000, 153.000]\n",
      "Motor Score: mean 100.949 (9.788 std); median 100.000; [70.000, 127.000]\n",
      "Male: 111 (56.061%)\n",
      "White: 94 (47.475%)\n",
      "Mode of delivery: V 103, I 41, Cem 54, Cel 0\n"
     ]
    }
   ],
   "source": [
    "### cohort B\n",
    "df = df[df.PMA_scan >= 31.9 ]\n",
    "df = df[df.PMA_scan <= 41.7 ]\n",
    "\n",
    "print('Cohort B:', len(df))\n",
    "print('\\n')\n",
    "for col in ['PMA_scan', 'GA_birth', 'Weight_birth', 'Cognitive Score', 'Language Score', 'Motor Score']:\n",
    "    print('{}: mean {:.3f} ({:.3f} std); median {:.3f}; [{:.3f}, {:.3f}]'.format(col,\n",
    "                    np.mean(df[col]), np.std(df[col]), np.median(df[col]), \n",
    "                    np.min(df[col]), np.max(df[col])))\n",
    "males = len(df[df.Sex =='male '])\n",
    "white = len(df[df.race == 'White'])\n",
    "print('Male: {} ({:.3f}%)'.format(males, (males*100)/len(df) ))\n",
    "print('White: {} ({:.3f}%)'.format(white, (white*100)/len(df) ))\n",
    "print('Mode of delivery: V {}, I {}, Cem {}, Cel {}'.format(\n",
    "            len(df[df.Delivery == 'V']), len(df[df.Delivery == 'I']),\n",
    "            len(df[df.Delivery == 'C_em']), len(df[df.Delivery == 'C_el']) ))\n",
    "\n",
    "cohorts['B'] = df.subject_id.values"
   ]
  },
  {
   "cell_type": "markdown",
   "metadata": {},
   "source": [
    "### cohort C\n",
    "Same as above but we also set limits to age at birth "
   ]
  },
  {
   "cell_type": "code",
   "execution_count": 35,
   "metadata": {},
   "outputs": [
    {
     "name": "stdout",
     "output_type": "stream",
     "text": [
      "Cohort C: 196\n",
      "\n",
      "\n",
      "PMA_scan: mean 39.287 (2.014 std); median 39.860; [32.290, 41.570]\n",
      "GA_birth: mean 38.501 (2.417 std); median 39.143; [29.857, 41.286]\n",
      "Weight_birth: mean 3.030 (0.700 std); median 3.110; [0.760, 4.590]\n",
      "Cognitive Score: mean 99.643 (11.401 std); median 100.000; [60.000, 130.000]\n",
      "Language Score: mean 95.434 (16.215 std); median 97.000; [47.000, 153.000]\n",
      "Motor Score: mean 100.847 (9.784 std); median 100.000; [70.000, 127.000]\n",
      "Male: 111 (56.633%)\n",
      "White: 93 (47.449%)\n",
      "Mode of delivery: V 102, I 40, Cem 54, Cel 0\n"
     ]
    }
   ],
   "source": [
    "### cohort C\n",
    "df = df[df.GA_birth >= 26 ]\n",
    "df = df[df.GA_birth <= 41.4 ]\n",
    "\n",
    "print('Cohort C:', len(df))\n",
    "print('\\n')\n",
    "for col in ['PMA_scan', 'GA_birth', 'Weight_birth', 'Cognitive Score', 'Language Score', 'Motor Score']:\n",
    "    print('{}: mean {:.3f} ({:.3f} std); median {:.3f}; [{:.3f}, {:.3f}]'.format(col,\n",
    "                    np.mean(df[col]), np.std(df[col]), np.median(df[col]), \n",
    "                    np.min(df[col]), np.max(df[col])))\n",
    "males = len(df[df.Sex =='male '])\n",
    "white = len(df[df.race == 'White'])\n",
    "print('Male: {} ({:.3f}%)'.format(males, (males*100)/len(df) ))\n",
    "print('White: {} ({:.3f}%)'.format(white, (white*100)/len(df) ))\n",
    "print('Mode of delivery: V {}, I {}, Cem {}, Cel {}'.format(\n",
    "            len(df[df.Delivery == 'V']), len(df[df.Delivery == 'I']),\n",
    "            len(df[df.Delivery == 'C_em']), len(df[df.Delivery == 'C_el']) ))\n",
    "\n",
    "cohorts['C'] = df.subject_id.values"
   ]
  },
  {
   "cell_type": "markdown",
   "metadata": {},
   "source": [
    "### Cohort D \n",
    "Same as above but set limits on score ranges"
   ]
  },
  {
   "cell_type": "code",
   "execution_count": 36,
   "metadata": {},
   "outputs": [
    {
     "name": "stdout",
     "output_type": "stream",
     "text": [
      "Cohort D: 126\n",
      "\n",
      "\n",
      "PMA_scan: mean 39.460 (1.793 std); median 40.000; [32.710, 41.570]\n",
      "GA_birth: mean 38.653 (2.172 std); median 39.143; [29.857, 41.286]\n",
      "Weight_birth: mean 3.086 (0.646 std); median 3.175; [1.250, 4.590]\n",
      "Cognitive Score: mean 95.675 (9.136 std); median 95.000; [65.000, 110.000]\n",
      "Language Score: mean 90.873 (12.806 std); median 91.000; [59.000, 112.000]\n",
      "Motor Score: mean 97.198 (7.980 std); median 98.500; [73.000, 107.000]\n",
      "Male: 73 (57.937%)\n",
      "White: 52 (41.270%)\n",
      "Mode of delivery: V 60, I 32, Cem 34, Cel 0\n"
     ]
    }
   ],
   "source": [
    "df = df[(df['Cognitive Score'] >= 65)  & (df['Cognitive Score'] <= 110) ]\n",
    "df = df[(df['Language Score'] >= 56) & (df['Language Score'] <= 112) ]\n",
    "df = df[(df['Motor Score'] >= 73) & (df['Motor Score'] <= 107) ]\n",
    "#print('Number of subjects (Cohort C): {}'.format(len(df)))\n",
    "\n",
    "print('Cohort D:', len(df))\n",
    "print('\\n')\n",
    "for col in ['PMA_scan', 'GA_birth', 'Weight_birth', 'Cognitive Score', 'Language Score', 'Motor Score']:\n",
    "    print('{}: mean {:.3f} ({:.3f} std); median {:.3f}; [{:.3f}, {:.3f}]'.format(col,\n",
    "                    np.mean(df[col]), np.std(df[col]), np.median(df[col]), \n",
    "                    np.min(df[col]), np.max(df[col])))\n",
    "males = len(df[df.Sex =='male '])\n",
    "white = len(df[df.race == 'White'])\n",
    "print('Male: {} ({:.3f}%)'.format(males, (males*100)/len(df) ))\n",
    "print('White: {} ({:.3f}%)'.format(white, (white*100)/len(df) ))\n",
    "print('Mode of delivery: V {}, I {}, Cem {}, Cel {}'.format(\n",
    "            len(df[df.Delivery == 'V']), len(df[df.Delivery == 'I']),\n",
    "            len(df[df.Delivery == 'C_em']), len(df[df.Delivery == 'C_el']) ))\n",
    "\n",
    "cohorts['D'] = df.subject_id.values"
   ]
  },
  {
   "cell_type": "markdown",
   "metadata": {},
   "source": [
    "### save subject ids for cohorts "
   ]
  },
  {
   "cell_type": "code",
   "execution_count": 37,
   "metadata": {},
   "outputs": [],
   "source": [
    "#with open(r\"../../DerivedData/cohorts_subjects_list.pickle\", \"wb\") as output_file:\n",
    "#    pickle.dump(cohorts, output_file)\n",
    "   "
   ]
  },
  {
   "cell_type": "code",
   "execution_count": null,
   "metadata": {},
   "outputs": [],
   "source": []
  }
 ],
 "metadata": {
  "kernelspec": {
   "display_name": "Python 3",
   "language": "python",
   "name": "python3"
  },
  "language_info": {
   "codemirror_mode": {
    "name": "ipython",
    "version": 3
   },
   "file_extension": ".py",
   "mimetype": "text/x-python",
   "name": "python",
   "nbconvert_exporter": "python",
   "pygments_lexer": "ipython3",
   "version": "3.7.11"
  }
 },
 "nbformat": 4,
 "nbformat_minor": 4
}
