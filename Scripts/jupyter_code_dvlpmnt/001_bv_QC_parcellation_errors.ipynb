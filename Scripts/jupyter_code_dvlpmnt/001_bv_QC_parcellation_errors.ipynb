{
 "cells": [
  {
   "cell_type": "code",
   "execution_count": 24,
   "metadata": {},
   "outputs": [],
   "source": [
    "from soma import aims \n",
    "import matplotlib.pyplot as plt \n",
    "import numpy as np \n",
    "import os\n",
    "import matplotlib.ticker as ticker\n",
    "import itertools\n",
    "import pandas as pd\n",
    "import pickle \n",
    "\n",
    "import networkx as nx\n",
    "from scipy.spatial.distance import euclidean\n",
    "from scipy.stats import pearsonr"
   ]
  },
  {
   "cell_type": "code",
   "execution_count": 3,
   "metadata": {},
   "outputs": [],
   "source": [
    "def set_box_color(bp, color):\n",
    "    plt.setp(bp['boxes'], color=color)\n",
    "    plt.setp(bp['whiskers'], color='darkgray')\n",
    "    plt.setp(bp['caps'], color='darkgray')\n",
    "    plt.setp(bp['medians'], color=color)\n",
    "    plt.setp(bp['fliers'], color='darkgray', alpha=0.5)"
   ]
  },
  {
   "cell_type": "markdown",
   "metadata": {},
   "source": [
    "# Evaluate random parcellation: change from expected vertex number (size)"
   ]
  },
  {
   "cell_type": "code",
   "execution_count": 10,
   "metadata": {},
   "outputs": [],
   "source": [
    "cls = [64, 128, 256, 512]\n",
    "hemi = ['left', 'right']"
   ]
  },
  {
   "cell_type": "code",
   "execution_count": 11,
   "metadata": {},
   "outputs": [
    {
     "name": "stdout",
     "output_type": "stream",
     "text": [
      "Clustering: 128 \n",
      "Clustering: 256 \n",
      "Clustering: 512 \n",
      "Clustering: 1024 \n"
     ]
    }
   ],
   "source": [
    "res_counts = {}\n",
    "\n",
    "for cl in cls:\n",
    "    print('Clustering: {} '.format(cl*2))\n",
    "    res_counts[cl] = {}\n",
    "    res_counts[cl]['left'] = []\n",
    "    res_counts[cl]['right'] = []\n",
    "    \n",
    "    for h in hemi:\n",
    "        iTEXT = '../../DerivedData/random_parcellation/{}_template_random_parc_pathKmeans_{}_clusters.tex.gii'.format(h, cl)\n",
    "        text_f = aims.read(iTEXT)\n",
    "        text_a = np.array(text_f)[0].astype(int)\n",
    "        \n",
    "        ## the last one is always cingulate!\n",
    "        text_a = text_a[text_a != np.max(text_a)]\n",
    "        \n",
    "        for label in np.unique(text_a):\n",
    "            res_counts[cl][h].append(len(text_a[text_a == label]))\n",
    "    "
   ]
  },
  {
   "cell_type": "code",
   "execution_count": 12,
   "metadata": {},
   "outputs": [],
   "source": [
    "pc_diff = {}\n",
    "for cl  in cls:\n",
    "    pc_diff[cl] = {}\n",
    "    pc_diff[cl]['left'] = []\n",
    "    pc_diff[cl]['right'] = []\n",
    "    \n",
    "    for h in hemi:\n",
    "        a = res_counts[cl][h]\n",
    "        exp = np.sum(a)/len(a)\n",
    "        #b = list(map(list, itertools.combinations(a, 2)))\n",
    "        pc_diff[cl][h] = (np.array(a) - exp) * 100/ np.float(exp)\n",
    "        #for el in b:\n",
    "        #    \n",
    "        #    pc_diff[cl][h].append(el[0] *100/ np.float(len(a) ))"
   ]
  },
  {
   "cell_type": "code",
   "execution_count": 15,
   "metadata": {},
   "outputs": [
    {
     "data": {
      "image/png": "[encoded data removed]",
      "text/plain": [
       "<Figure size 720x432 with 3 Axes>"
      ]
     },
     "metadata": {},
     "output_type": "display_data"
    }
   ],
   "source": [
    "\n",
    "fig, axs = plt.subplots(1,2,  figsize=(10,6),sharey=True,sharex=True)\n",
    "#for i, cl in enumerate(cls):\n",
    "bpl = axs[0].boxplot([pc_diff[cl]['left'] for cl in cls], positions=np.arange(len(cls)) - 0.2, \n",
    "                    sym='.', widths=0.3, vert=True, showfliers=True, labels=['left', 'left','left','left'])\n",
    "set_box_color(bpl, 'darkmagenta')\n",
    "    \n",
    "bpr = axs[0].boxplot([pc_diff[cl]['right'] for cl in cls], positions=np.arange(len(cls)) + 0.2, \n",
    "                    sym='.', widths=0.3, vert=True, showfliers=True, labels=['right','right','right','right'])\n",
    "set_box_color(bpr, 'chocolate')\n",
    "\n",
    "\n",
    "axs[0].set_ylabel('% Difference (vertex number)', fontsize=16)\n",
    "\n",
    "\n",
    "axs[0].set_xticks([-0.2,0.2, 0.8,1.2, 1.8,2.2, 2.8, 3.2, 3.8, 4.2])\n",
    "axs[0].set_xticklabels(['left', 'right','left', 'right', 'left', 'right', 'left', 'right'])\n",
    "axs[0].tick_params(labelsize=10)\n",
    "#axs[0].plot([], c='chocolate', label='right')\n",
    "#axs[0].plot([], c='darkmagenta', label='left')\n",
    "#axs[0].legend(loc='upper center', bbox_to_anchor=(0.5, 1.15), \n",
    "#           ncol = 4, fontsize=18, frameon=False, markerscale=0.6) \n",
    "axs[0].set_xlim([-1, 4])\n",
    "\n",
    "# Second X-axis\n",
    "ax2 = axs[0].twiny()\n",
    "\n",
    "ax2.set_frame_on(False)\n",
    "\n",
    "ax2.spines[\"bottom\"].set_position((\"axes\", -0.10))\n",
    "ax2.tick_params('both', length=0, width=0, which='minor')\n",
    "ax2.tick_params('both', direction='in', which='major', labelsize=22)\n",
    "ax2.xaxis.set_ticks_position(\"bottom\")\n",
    "ax2.xaxis.set_label_position(\"bottom\")\n",
    "ax2.set_xticks([0, 1, 2,3,4, 5])\n",
    "ax2.xaxis.set_major_formatter(ticker.NullFormatter())\n",
    "ax2.xaxis.set_minor_locator(ticker.FixedLocator([1,2,3,4]))\n",
    "ax2.xaxis.set_minor_formatter(ticker.FixedFormatter(cls))\n",
    "\n",
    "axs[0].spines['top'].set_visible(False)\n",
    "axs[0].spines['right'].set_visible(False)\n",
    "\n",
    "\n",
    "fig.patch.set_facecolor('white')\n",
    "plt.tight_layout()\n",
    "#plt.savefig('../../Results/figures/random_parcelation_regions.png', dpi=500)\n",
    "plt.show()"
   ]
  },
  {
   "cell_type": "markdown",
   "metadata": {},
   "source": [
    "# Metric projection - QC & visualisation "
   ]
  },
  {
   "cell_type": "code",
   "execution_count": 20,
   "metadata": {},
   "outputs": [
    {
     "name": "stdout",
     "output_type": "stream",
     "text": [
      "('CC00072XX07', 10.0, 0.0)\n",
      "('CC00091XX10', 41.0, 0.0)\n",
      "('CC00100XX01', 168.0, 0.001)\n",
      "('CC00109XX10', 106.0, 0.001)\n",
      "('CC00139XX16', 706.0, 0.004)\n",
      "('CC00153XX05', 31.0, 0.0)\n",
      "('CC00155XX07', 35.0, 0.0)\n",
      "('CC00159XX11', 92.0, 0.0)\n",
      "('CC00171XX07', 238.0, 0.001)\n",
      "('CC00189XX17', 621.0, 0.003)\n",
      "('CC00200XX02', 61.0, 0.0)\n",
      "('CC00223XX09', 469.0, 0.003)\n",
      "('CC00399XX21', 181.0, 0.001)\n",
      "('CC00400XX04', 4.0, 0.0)\n",
      "('CC00538XX19', 1689.0, 0.01)\n",
      "('CC00566XX14', 1613.0, 0.009)\n",
      "('CC00765XX15', 160.0, 0.001)\n",
      "('CC00947XX24', 832.0, 0.004)\n",
      "('CC01105XX08', 15.0, 0.0)\n",
      "('CC01194XX16', 68413.0, 0.301)\n"
     ]
    }
   ],
   "source": [
    "subjects = pd.read_csv('../../DerivedData/replication_cohort_all_subjects_current.csv', \n",
    "                                         names=['subject_id', 'session_id', 'template'])\n",
    "\n",
    "## get number of vertices which are 0 (== wrongly projected) per subject\n",
    "out= []\n",
    "for i, row in subjects.iterrows():  \n",
    "    metric = 'FA'\n",
    "   \n",
    "    s = 0. \n",
    "    a = 0.\n",
    "    \n",
    "    for hemi in ['left', 'right']:\n",
    "        iM = '../../DerivedData/subjects/sub-{}/ses-{}/sub-{}_ses-{}_{}_texture_{}_majority.gii'.format(\n",
    "                                row.subject_id, row.session_id, row.subject_id, row.session_id, hemi, metric)\n",
    "        if os.path.isfile(iM):\n",
    "            text_f = aims.read(iM)\n",
    "            text_a = np.array(text_f)[0]\n",
    "            \n",
    "            s = s + len(text_a[text_a == 0.]) \n",
    "            a = a + len(text_a)\n",
    "    \n",
    "    p = np.round(s/a,3)        \n",
    "    out.append(p)\n",
    "    if s != 0:\n",
    "        print(row.subject_id, s, p)   "
   ]
  },
  {
   "cell_type": "markdown",
   "metadata": {},
   "source": [
    "Removed the 12 subjects with % > 0 from the analysis!"
   ]
  },
  {
   "cell_type": "code",
   "execution_count": 22,
   "metadata": {},
   "outputs": [
    {
     "name": "stdout",
     "output_type": "stream",
     "text": [
      "CC00063AN06\n",
      "CC00144XX13\n",
      "CC00260XX05\n",
      "CC00371XX09\n",
      "CC00482XX13\n",
      "CC00585XX17\n",
      "CC00788XX22\n",
      "CC00958XX18\n"
     ]
    }
   ],
   "source": [
    "#==== All metrics in a loop ====#\n",
    "results = {'L1' : [], \n",
    "          'RD' : [],\n",
    "          'MD' : [],\n",
    "          'FA' : []}\n",
    "\n",
    "\n",
    "for i, row in subjects.iterrows():   \n",
    "    if i % 50 == 0 :\n",
    "        print(row.subject_id)\n",
    "    for metric in ['L1', 'RD', 'MD', 'FA']:\n",
    "        s = 0. \n",
    "        a = 0.\n",
    "        for hemi in ['left', 'right']:\n",
    "            iM = '../../DerivedData/subjects/sub-{}/ses-{}/sub-{}_ses-{}_{}_texture_{}_majority.gii'.format(\n",
    "                                row.subject_id, row.session_id, row.subject_id, row.session_id, hemi, metric)\n",
    "            if os.path.isfile(iM):\n",
    "                text_f = aims.read(iM)\n",
    "                text_a = np.array(text_f)[0]\n",
    "                \n",
    "                s = s + len(text_a[text_a == 0.])\n",
    "                a = a + len(text_a)\n",
    "        p = np.round(s/a,3)\n",
    "        results[metric].append(p)\n",
    "        \n",
    "        \n",
    "\n",
    "#oFile = '../../Results/files/QC/metric_projection_num_of_0roes_in_anatomy.pickle'\n",
    "#with open(oFile, 'wb') as handle:\n",
    "#    pickle.dump(results, handle, protocol=pickle.HIGHEST_PROTOCOL)\n",
    "\n",
    "#with open(oFile, 'rb') as handle:\n",
    "#    results = pickle.load(handle)        "
   ]
  },
  {
   "cell_type": "code",
   "execution_count": 23,
   "metadata": {},
   "outputs": [
    {
     "data": {
      "image/png": "[encoded data removed]",
      "text/plain": [
       "<Figure size 720x432 with 1 Axes>"
      ]
     },
     "metadata": {},
     "output_type": "display_data"
    }
   ],
   "source": [
    "metrics = ['L1', 'RD', 'MD', 'FA']\n",
    "fig, axs = plt.subplots(1,1,  figsize=(10,6),sharey=True,sharex=True)\n",
    "#for i, cl in enumerate(cls):\n",
    "\n",
    "a = np.array(results['FA'])\n",
    "a = a[a<0.3]\n",
    "\n",
    "#bpl = axs.boxplot(a, positions=np.arange(1) ,\n",
    "#sym='.', widths=0.3, vert=True, showfliers=True, labels=['FA'])\n",
    "#bpl = axs.boxplot(results['.values()'], positions=np.arange(len(results.keys())) ,\n",
    "#                    sym='.', widths=0.3, vert=True, showfliers=True, labels=results.keys())\n",
    "plt.hist(a)\n",
    "set_box_color(bpl, 'darkmagenta')\n",
    "\n",
    "axs.set_ylabel('% 0 after metric projection', fontsize=16)\n",
    "\n",
    "axs.tick_params(labelsize=10)\n",
    "#axs.set_xlim([-1, 1])\n",
    "\n",
    "axs.spines['top'].set_visible(False)\n",
    "axs.spines['right'].set_visible(False)\n",
    "\n",
    "#axs.set_ylim(0,0.01)\n",
    "\n",
    "\n",
    "fig.patch.set_facecolor('white')\n",
    "plt.tight_layout()\n",
    "#plt.savefig('../../Results/figures/metric_projection_percent0.png', dpi=500)\n",
    "plt.show()"
   ]
  },
  {
   "cell_type": "markdown",
   "metadata": {},
   "source": [
    "# Evaluation of segmentation corrections"
   ]
  },
  {
   "cell_type": "code",
   "execution_count": 25,
   "metadata": {},
   "outputs": [],
   "source": [
    "subjects = pd.read_csv('../../DerivedData/cohortA_subjects_clinical.csv', index_col=0)\n",
    "scheme = pd.read_csv('../../SourceData/atlas_labelling_scheme.csv')\n",
    "\n",
    "### get only the subjects of cohort one (after exclusions etc)\n",
    "with open('../../DerivedData/cohorts_subjects_list_python2.pickle', 'rb') as handle:\n",
    "    cohorts = pickle.load(handle)\n",
    "    \n",
    "subjects = subjects[subjects.subject_id.isin(cohorts['A'])]"
   ]
  },
  {
   "cell_type": "code",
   "execution_count": 26,
   "metadata": {},
   "outputs": [],
   "source": [
    "def get_blob_dict(iTex_path, iMesh_path):\n",
    "    \n",
    "    iTex = aims.read(iTex_path)\n",
    "    iMesh = aims.read(iMesh_path)\n",
    "    \n",
    "    segm = np.array(iTex)[0][:].ravel()\n",
    "    vert, poly = np.array(iMesh.vertex()) ,np.array(iMesh.polygon())\n",
    "\n",
    "    edges = [(edge[0], edge[1]) for edge in poly]\n",
    "    edges.extend([(edge[1], edge[2]) for edge in poly])\n",
    "    edges.extend([(edge[2], edge[0]) for edge in poly])\n",
    "\n",
    "    G = nx.Graph()\n",
    "    nodes = [(i, {'label' : segm[i]}) for i in range(len(vert))]\n",
    "    G.add_nodes_from(nodes)\n",
    "    G.add_edges_from(edges)\n",
    "    \n",
    "    # labels \n",
    "    labels = np.unique(segm)[1:].astype(int)\n",
    "    \n",
    "    res = {}\n",
    "    for label in labels: \n",
    "        res[label] = []\n",
    "        # to create subgraph with only those labels\n",
    "        to_keep = [node for node in G.nodes() if G.node[node]['label'] == label]\n",
    "        H = G.subgraph(to_keep)\n",
    "    \n",
    "        for component in list(nx.connected_components(H)):\n",
    "            res[label].append(len(component)*100./len(to_keep))\n",
    "    return  res\n",
    "\n",
    "def get_error(d):\n",
    "    #error = 0 \n",
    "    #for key in d.keys():\n",
    "    #    for el in d[key]:\n",
    "    #        error = error + (100-el)\n",
    "    \n",
    "    error=0\n",
    "    for key in d.keys():\n",
    "        \n",
    "        n_el = len(d[key])\n",
    "        diff = np.abs(((np.max(d[key]) - np.min(d[key])) - 100))\n",
    "        \n",
    "        if n_el != 1:\n",
    "            error = error + (n_el*diff)\n",
    "    return error\n"
   ]
  },
  {
   "cell_type": "code",
   "execution_count": 27,
   "metadata": {
    "collapsed": true
   },
   "outputs": [
    {
     "name": "stdout",
     "output_type": "stream",
     "text": [
      "('CC00063AN06', 15102, 'left')\n"
     ]
    },
    {
     "ename": "KeyboardInterrupt",
     "evalue": "",
     "output_type": "error",
     "traceback": [
      "\u001b[0;31m---------------------------------------------------------------------------\u001b[0m",
      "\u001b[0;31mKeyboardInterrupt\u001b[0m                         Traceback (most recent call last)",
      "\u001b[0;32m<ipython-input-27-4ca4d2924513>\u001b[0m in \u001b[0;36m<module>\u001b[0;34m()\u001b[0m\n\u001b[1;32m     26\u001b[0m         \u001b[0mdf\u001b[0m\u001b[0;34m.\u001b[0m\u001b[0mloc\u001b[0m\u001b[0;34m[\u001b[0m\u001b[0mnew_loc\u001b[0m\u001b[0;34m,\u001b[0m\u001b[0;34m'pre_error_L'\u001b[0m\u001b[0;34m]\u001b[0m \u001b[0;34m=\u001b[0m \u001b[0mget_error\u001b[0m\u001b[0;34m(\u001b[0m\u001b[0mpre_res\u001b[0m\u001b[0;34m)\u001b[0m\u001b[0;34m\u001b[0m\u001b[0m\n\u001b[1;32m     27\u001b[0m \u001b[0;34m\u001b[0m\u001b[0m\n\u001b[0;32m---> 28\u001b[0;31m         \u001b[0mpost_res\u001b[0m \u001b[0;34m=\u001b[0m \u001b[0mget_blob_dict\u001b[0m\u001b[0;34m(\u001b[0m\u001b[0miTex_path\u001b[0m\u001b[0;34m=\u001b[0m\u001b[0mpost\u001b[0m\u001b[0;34m,\u001b[0m \u001b[0miMesh_path\u001b[0m\u001b[0;34m=\u001b[0m\u001b[0mwm\u001b[0m\u001b[0;34m)\u001b[0m\u001b[0;34m\u001b[0m\u001b[0m\n\u001b[0m\u001b[1;32m     29\u001b[0m         \u001b[0mdf\u001b[0m\u001b[0;34m.\u001b[0m\u001b[0mloc\u001b[0m\u001b[0;34m[\u001b[0m\u001b[0mnew_loc\u001b[0m\u001b[0;34m,\u001b[0m\u001b[0;34m'post_error_L'\u001b[0m\u001b[0;34m]\u001b[0m \u001b[0;34m=\u001b[0m \u001b[0mget_error\u001b[0m\u001b[0;34m(\u001b[0m\u001b[0mpost_res\u001b[0m\u001b[0;34m)\u001b[0m\u001b[0;34m\u001b[0m\u001b[0m\n\u001b[1;32m     30\u001b[0m \u001b[0;34m\u001b[0m\u001b[0m\n",
      "\u001b[0;32m<ipython-input-26-3aad83212b84>\u001b[0m in \u001b[0;36mget_blob_dict\u001b[0;34m(iTex_path, iMesh_path)\u001b[0m\n\u001b[1;32m      7\u001b[0m     \u001b[0mvert\u001b[0m\u001b[0;34m,\u001b[0m \u001b[0mpoly\u001b[0m \u001b[0;34m=\u001b[0m \u001b[0mnp\u001b[0m\u001b[0;34m.\u001b[0m\u001b[0marray\u001b[0m\u001b[0;34m(\u001b[0m\u001b[0miMesh\u001b[0m\u001b[0;34m.\u001b[0m\u001b[0mvertex\u001b[0m\u001b[0;34m(\u001b[0m\u001b[0;34m)\u001b[0m\u001b[0;34m)\u001b[0m \u001b[0;34m,\u001b[0m\u001b[0mnp\u001b[0m\u001b[0;34m.\u001b[0m\u001b[0marray\u001b[0m\u001b[0;34m(\u001b[0m\u001b[0miMesh\u001b[0m\u001b[0;34m.\u001b[0m\u001b[0mpolygon\u001b[0m\u001b[0;34m(\u001b[0m\u001b[0;34m)\u001b[0m\u001b[0;34m)\u001b[0m\u001b[0;34m\u001b[0m\u001b[0m\n\u001b[1;32m      8\u001b[0m \u001b[0;34m\u001b[0m\u001b[0m\n\u001b[0;32m----> 9\u001b[0;31m     \u001b[0medges\u001b[0m \u001b[0;34m=\u001b[0m \u001b[0;34m[\u001b[0m\u001b[0;34m(\u001b[0m\u001b[0medge\u001b[0m\u001b[0;34m[\u001b[0m\u001b[0;36m0\u001b[0m\u001b[0;34m]\u001b[0m\u001b[0;34m,\u001b[0m \u001b[0medge\u001b[0m\u001b[0;34m[\u001b[0m\u001b[0;36m1\u001b[0m\u001b[0;34m]\u001b[0m\u001b[0;34m)\u001b[0m \u001b[0;32mfor\u001b[0m \u001b[0medge\u001b[0m \u001b[0;32min\u001b[0m \u001b[0mpoly\u001b[0m\u001b[0;34m]\u001b[0m\u001b[0;34m\u001b[0m\u001b[0m\n\u001b[0m\u001b[1;32m     10\u001b[0m     \u001b[0medges\u001b[0m\u001b[0;34m.\u001b[0m\u001b[0mextend\u001b[0m\u001b[0;34m(\u001b[0m\u001b[0;34m[\u001b[0m\u001b[0;34m(\u001b[0m\u001b[0medge\u001b[0m\u001b[0;34m[\u001b[0m\u001b[0;36m1\u001b[0m\u001b[0;34m]\u001b[0m\u001b[0;34m,\u001b[0m \u001b[0medge\u001b[0m\u001b[0;34m[\u001b[0m\u001b[0;36m2\u001b[0m\u001b[0;34m]\u001b[0m\u001b[0;34m)\u001b[0m \u001b[0;32mfor\u001b[0m \u001b[0medge\u001b[0m \u001b[0;32min\u001b[0m \u001b[0mpoly\u001b[0m\u001b[0;34m]\u001b[0m\u001b[0;34m)\u001b[0m\u001b[0;34m\u001b[0m\u001b[0m\n\u001b[1;32m     11\u001b[0m     \u001b[0medges\u001b[0m\u001b[0;34m.\u001b[0m\u001b[0mextend\u001b[0m\u001b[0;34m(\u001b[0m\u001b[0;34m[\u001b[0m\u001b[0;34m(\u001b[0m\u001b[0medge\u001b[0m\u001b[0;34m[\u001b[0m\u001b[0;36m2\u001b[0m\u001b[0;34m]\u001b[0m\u001b[0;34m,\u001b[0m \u001b[0medge\u001b[0m\u001b[0;34m[\u001b[0m\u001b[0;36m0\u001b[0m\u001b[0;34m]\u001b[0m\u001b[0;34m)\u001b[0m \u001b[0;32mfor\u001b[0m \u001b[0medge\u001b[0m \u001b[0;32min\u001b[0m \u001b[0mpoly\u001b[0m\u001b[0;34m]\u001b[0m\u001b[0;34m)\u001b[0m\u001b[0;34m\u001b[0m\u001b[0m\n",
      "\u001b[0;31mKeyboardInterrupt\u001b[0m: "
     ]
    }
   ],
   "source": [
    "df = pd.DataFrame()\n",
    "\n",
    "new_loc = 0\n",
    "for i, row in subjects.iterrows():\n",
    "\n",
    "    scheme = pd.read_csv('../../SourceData/atlas_labelling_scheme.csv')\n",
    "    subj_id = row.subject_id\n",
    "    session_id = row.session_id\n",
    "    hemi='left'\n",
    "    h='L'\n",
    "\n",
    "    print(subj_id, session_id, hemi)\n",
    "    \n",
    "    pre = '../../DerivedData/subjects/sub-{}/ses-{}/sub-{}_ses-{}_{}_texture_cortex_voronoi_majority.gii'.format(subj_id, session_id,subj_id, session_id,hemi)\n",
    "    post = '../../DerivedData/subjects/sub-{}/ses-{}/sub-{}_ses-{}_neoAtlas_corrected_{}.gii'.format(subj_id, session_id,subj_id, session_id,hemi)\n",
    "    wm = '/neurospin/grip/external_databases/dHCP_CR_JD_2018/release3/dhcp_anat_pipeline/sub-{}/ses-{}/anat/sub-{}_ses-{}_T2w_{}white_bv_transformed.gii'.format(subj_id, session_id,subj_id, session_id,  h)\n",
    "    \n",
    "    if os.path.isfile(pre) and os.path.isfile(post):\n",
    "        df.loc[new_loc, 'subject_id'] = subj_id\n",
    "        df.loc[new_loc, 'session_id'] = session_id\n",
    "        \n",
    "        df.loc[new_loc, 'PMA_scan'] = subjects[subjects.subject_id == subj_id].PMA_scan.values[0]\n",
    "        df.loc[new_loc, 'diff'] = np.abs(subjects[subjects.subject_id == subj_id].template.values[0] - subjects[subjects.subject_id == subj_id].PMA_scan.values[0]).round(3)\n",
    "        \n",
    "        pre_res = get_blob_dict(iTex_path=pre, iMesh_path=wm)\n",
    "        df.loc[new_loc,'pre_error_L'] = get_error(pre_res)\n",
    "\n",
    "        post_res = get_blob_dict(iTex_path=post, iMesh_path=wm)\n",
    "        df.loc[new_loc,'post_error_L'] = get_error(post_res)\n",
    "        \n",
    "    hemi='right'\n",
    "    h='R'\n",
    "\n",
    "    print(subj_id, session_id, hemi)\n",
    "    \n",
    "    pre = '../../DerivedData/subjects/sub-{}/ses-{}/sub-{}_ses-{}_{}_texture_cortex_voronoi_majority.gii'.format(subj_id, session_id,subj_id, session_id,hemi)\n",
    "    post = '../../DerivedData/subjects/sub-{}/ses-{}/sub-{}_ses-{}_neoAtlas_corrected_{}.gii'.format(subj_id, session_id,subj_id, session_id,hemi)\n",
    "    wm = '/neurospin/grip/external_databases/dHCP_CR_JD_2018/release3/dhcp_anat_pipeline/sub-{}/ses-{}/anat/sub-{}_ses-{}_T2w_{}white_bv_transformed.gii'.format(subj_id, session_id,subj_id, session_id,  h)\n",
    "    \n",
    "    if os.path.isfile(pre) and os.path.isfile(post):\n",
    "        \n",
    "        pre_res = get_blob_dict(iTex_path=pre, iMesh_path=wm)\n",
    "        df.loc[new_loc,'pre_error_R'] = get_error(pre_res)\n",
    "\n",
    "        post_res = get_blob_dict(iTex_path=post, iMesh_path=wm)\n",
    "        df.loc[new_loc,'post_error_R'] = get_error(post_res)\n",
    "        \n",
    "    new_loc = new_loc +1"
   ]
  },
  {
   "cell_type": "code",
   "execution_count": 30,
   "metadata": {},
   "outputs": [],
   "source": [
    "#df.to_csv('../../Results/files/QC/pre_post_segmentation_error_cohortA.csv')\n",
    "df = pd.read_csv('../../Results/files/QC/pre_post_segmentation_error_cohortA.csv', index_col=0)"
   ]
  },
  {
   "cell_type": "markdown",
   "metadata": {},
   "source": [
    "### correlation with PMA at scna & difference of age from the template"
   ]
  },
  {
   "cell_type": "code",
   "execution_count": 31,
   "metadata": {},
   "outputs": [],
   "source": [
    "for i, row in df.iterrows():\n",
    "    #mn = np.mean([row.pre_error_L, row.pre_error_R])\n",
    "    #print(row.subject_id, mn)\n",
    "    df.loc[i, 'mean_error_pre'] = np.mean([row.pre_error_L, row.pre_error_R]) \n",
    "    df.loc[i, 'mean_error_post'] =np.mean([row.post_error_L, row.post_error_R])"
   ]
  },
  {
   "cell_type": "code",
   "execution_count": 33,
   "metadata": {},
   "outputs": [
    {
     "name": "stdout",
     "output_type": "stream",
     "text": [
      "Before corrections:\n",
      "Mean error 2283.677 (std 474.594)\n",
      "Correlation with PMA at scan r=0.394 (p=2.27855094215e-12)\n",
      "Correlation with delta template scan r=0.421 (p=4.15759223632e-14)\n",
      "After corrections:\n",
      "Mean error 167.056 (std 94.779)\n",
      "Correlation with PMA at scan r=-0.042 (p=0.47239528144)\n",
      "Correlation with delta template scan r=0.008 (p=0.897915296157)\n"
     ]
    }
   ],
   "source": [
    "print('Before corrections:')\n",
    "print('Mean error {:.3f} (std {:.3f})'.format(np.mean(df.mean_error_pre.values), np.std(df.mean_error_pre.values)))\n",
    "r,p = pearsonr(df['PMA_scan'].values, df.mean_error_pre.values)\n",
    "print('Correlation with PMA at scan r={:.3f} (p={})'.format(r,p))\n",
    "r,p = pearsonr(df['diff'].values, df.mean_error_pre.values)\n",
    "print('Correlation with delta template scan r={:.3f} (p={})'.format(r,p))\n",
    "\n",
    "print('After corrections:')\n",
    "print('Mean error {:.3f} (std {:.3f})'.format(np.mean(df.mean_error_post.values), np.std(df.mean_error_post.values)))\n",
    "r,p = pearsonr(df['PMA_scan'].values, df.mean_error_post.values)\n",
    "print('Correlation with PMA at scan r={:.3f} (p={})'.format(r,p))\n",
    "r,p = pearsonr(df['diff'].values, df.mean_error_post.values)\n",
    "print('Correlation with delta template scan r={:.3f} (p={})'.format(r,p))"
   ]
  },
  {
   "cell_type": "code",
   "execution_count": null,
   "metadata": {},
   "outputs": [],
   "source": []
  }
 ],
 "metadata": {
  "kernelspec": {
   "display_name": "Python 2",
   "language": "python",
   "name": "python2"
  },
  "language_info": {
   "codemirror_mode": {
    "name": "ipython",
    "version": 2
   },
   "file_extension": ".py",
   "mimetype": "text/x-python",
   "name": "python",
   "nbconvert_exporter": "python",
   "pygments_lexer": "ipython2",
   "version": "2.7.17"
  }
 },
 "nbformat": 4,
 "nbformat_minor": 2
}
