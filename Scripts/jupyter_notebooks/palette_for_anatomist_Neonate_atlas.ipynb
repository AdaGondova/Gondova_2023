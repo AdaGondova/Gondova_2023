{
 "cells": [
  {
   "cell_type": "code",
   "execution_count": 1,
   "metadata": {},
   "outputs": [],
   "source": [
    "import pandas as pd \n",
    "import numpy as np\n",
    "from soma import aims\n",
    "import os"
   ]
  },
  {
   "cell_type": "code",
   "execution_count": 14,
   "metadata": {},
   "outputs": [],
   "source": [
    "df = pd.read_csv('../../SourceData/left_palette.csv', sep=',')"
   ]
  },
  {
   "cell_type": "code",
   "execution_count": 16,
   "metadata": {},
   "outputs": [],
   "source": [
    "paleta = ''\n",
    "for i, row in df.iterrows():\n",
    "    paleta = paleta + '{};{};'.format(row['label'],row.R)\n",
    "paleta = paleta[:-1] + '#'\n",
    "\n",
    "for i, row in df.iterrows():\n",
    "    paleta = paleta + '{};{};'.format(row['label'],row.G)\n",
    "paleta = paleta[:-1] + '#'\n",
    "\n",
    "for i, row in df.iterrows():\n",
    "    paleta = paleta + '{};{};'.format(row['label'],row.B)\n",
    "\n",
    "paleta = paleta[:-1] + '#0.5;1'"
   ]
  },
  {
   "cell_type": "code",
   "execution_count": 18,
   "metadata": {},
   "outputs": [],
   "source": [
    "with open('../../SourceData/Neonate_atlas_paleta_left.csv', 'w+') as fh:\n",
    "    fh.write(paleta)\n"
   ]
  },
  {
   "cell_type": "code",
   "execution_count": 5,
   "metadata": {},
   "outputs": [],
   "source": [
    "df = pd.read_csv('../../SourceData/paleta_r.csv', sep=',')\n",
    "\n",
    "paleta = ''\n",
    "for i, row in df.iterrows():\n",
    "    paleta = paleta + '{};{};'.format(row['Label'],row.R)\n",
    "paleta = paleta[:-1] + '#'\n",
    "\n",
    "for i, row in df.iterrows():\n",
    "    paleta = paleta + '{};{};'.format(row['Label'],row.G)\n",
    "paleta = paleta[:-1] + '#'\n",
    "\n",
    "for i, row in df.iterrows():\n",
    "    paleta = paleta + '{};{};'.format(row['Label'],row.B)\n",
    "\n",
    "paleta = paleta[:-1] + '#0.5;1'\n",
    "\n",
    "with open('../../SourceData/Neonate_atlas_paleta_right.csv', 'w+') as fh:\n",
    "    fh.write(paleta)\n"
   ]
  },
  {
   "cell_type": "code",
   "execution_count": null,
   "metadata": {},
   "outputs": [],
   "source": []
  },
  {
   "cell_type": "code",
   "execution_count": 4,
   "metadata": {},
   "outputs": [],
   "source": [
    "df = pd.read_csv('../../SourceData/paleta_combined.csv', sep=',', names=['Label', 'R', 'G', 'B'])\n",
    "\n",
    "paleta = ''\n",
    "for i, row in df.iterrows():\n",
    "    paleta = paleta + '{};{};'.format(row['Label'],row.R)\n",
    "paleta = paleta[:-1] + '#'\n",
    "\n",
    "for i, row in df.iterrows():\n",
    "    paleta = paleta + '{};{};'.format(row['Label'],row.G)\n",
    "paleta = paleta[:-1] + '#'\n",
    "\n",
    "for i, row in df.iterrows():\n",
    "    paleta = paleta + '{};{};'.format(row['Label'],row.B)\n",
    "\n",
    "paleta = paleta[:-1] + '#0.5;1'\n",
    "\n",
    "with open('../../SourceData/Neonate_atlas_paleta_combined.csv', 'w+') as fh:\n",
    "    fh.write(paleta)\n"
   ]
  },
  {
   "cell_type": "code",
   "execution_count": 2,
   "metadata": {},
   "outputs": [],
   "source": [
    "## paleta vobec nefunguje lebo anatomist je pravdepodobne ten najhlupejsi software na visualizaciu, \n",
    "## skusim pre-labelovat jednu hemi na druhu aby som pouzila jednotnu schemu? \n",
    "sub = pd.read_csv('../../Scripts/data_processing/subj_for_visualisation.csv', names=['subject_id', 'session_id', 'template'])"
   ]
  },
  {
   "cell_type": "code",
   "execution_count": 3,
   "metadata": {},
   "outputs": [],
   "source": [
    "## attention - change from the previous where there was congulum gyral part, now only cingulate BUT hippocampus included\n",
    "R_labels = [67,69,71,73,75,77,79,81,83,85,87,89,91,93,95,97,99,101,103,105,107,109,111,113,117,121]\n",
    "L_labels = [68,70,72,74,76,78,80,82,84,86,88,90,92,94,96,98,100,102,104,106,108,110,112,114,118,122]"
   ]
  },
  {
   "cell_type": "code",
   "execution_count": 4,
   "metadata": {},
   "outputs": [
    {
     "name": "stdout",
     "output_type": "stream",
     "text": [
      "CC00150AN02 54800 relabelled\n",
      "CC00554XX10 160200 relabelled\n",
      "CC00389XX19 119100 relabelled\n",
      "CC00186AN14 60900 relabelled\n"
     ]
    }
   ],
   "source": [
    "for i, row in sub.iterrows():\n",
    "    \n",
    "    iSegm = aims.read('../../DerivedData/subjects/sub-{}/ses-{}/sub-{}_ses-{}_NAt_cortex_shard_space.nii.gz'.format(\n",
    "                    row.subject_id, row.session_id, row.subject_id, row.session_id))\n",
    "    segm = np.array(iSegm)[:,:,:,0]\n",
    "    \n",
    "    for r, l in zip(R_labels, L_labels):\n",
    "        segm[segm == r] = l\n",
    "        \n",
    "    new_im = aims.Volume(segm)\n",
    "    new_im.header().update(iSegm.header())\n",
    "        \n",
    "    out = '../../Results/figures/example_subject_vis/sub-{}_ses-{}_NeonAtlas_shard_cortex_relabeled_to_match.nii.gz'.format(row.subject_id, row.session_id)\n",
    "    aims.write(new_im, out)\n",
    "        \n",
    "    if os.path.isfile(out):\n",
    "        print('{} {} relabelled'.format(row.subject_id, row.session_id))"
   ]
  },
  {
   "cell_type": "code",
   "execution_count": 13,
   "metadata": {},
   "outputs": [
    {
     "name": "stdout",
     "output_type": "stream",
     "text": [
      "('CC00150AN02', 'right DONE')\n",
      "('CC00150AN02', 'left DONE')\n",
      "('CC00554XX10', 'right DONE')\n",
      "('CC00554XX10', 'left DONE')\n",
      "('CC00389XX19', 'right DONE')\n",
      "('CC00389XX19', 'left DONE')\n",
      "('CC00186AN14', 'right DONE')\n",
      "('CC00186AN14', 'left DONE')\n"
     ]
    }
   ],
   "source": [
    "## do the same thing for the surfaces \n",
    "# relabel right should be ok for left \n",
    "\n",
    "for i, row in sub.iterrows():\n",
    "    \n",
    "    h = 'R'\n",
    "    hemi ='right'\n",
    "    ## right\n",
    "    mesh = aims.read('/neurospin/grip/external_databases/dHCP_CR_JD_2018/release3/dhcp_anat_pipeline/sub-{}/ses-{}/anat/sub-{}_ses-{}_T2w_{}white_bv_transformed.gii'.format(row.subject_id, row.session_id, row.subject_id, row.session_id,  h))\n",
    "    vert, poly = np.array(mesh.vertex()) ,np.array(mesh.polygon())    \n",
    "    iSegm = aims.read('../../DerivedData/subjects/sub-{}/ses-{}/sub-{}_ses-{}_neoAtlas_corrected_right.gii'.format(\n",
    "                    row.subject_id, row.session_id, row.subject_id, row.session_id))\n",
    "    segm = np.array(iSegm)[0]\n",
    "    \n",
    "    for r, l in zip(R_labels, L_labels):\n",
    "        segm[segm == r] = l\n",
    "        \n",
    "    tex = aims.TimeTexture('FLOAT')  \n",
    "    for i in range(mesh.size()):\n",
    "        tex[i].assign(np.zeros((len(vert),), dtype=np.float32))\n",
    "        t = np.asarray(tex[i])\n",
    "        t[:] = segm[:]\n",
    "        \n",
    "    outf = '../../Results/figures/example_subject_vis/sub-{}_ses-{}_neoAtlas_corrected_{}_relabelled_to_match.gii'.format(row.subject_id, row.session_id, row.subject_id, row.session_id,   hemi)\n",
    "    aims.write(tex, outf)   \n",
    "    \n",
    "    if os.path.isfile(outf):\n",
    "        print(row.subject_id, '{} DONE'.format(hemi))\n",
    "    \n",
    "    h = 'L'\n",
    "    hemi ='left'\n",
    "    ## right\n",
    "    mesh = aims.read('/neurospin/grip/external_databases/dHCP_CR_JD_2018/release3/dhcp_anat_pipeline/sub-{}/ses-{}/anat/sub-{}_ses-{}_T2w_{}white_bv_transformed.gii'.format(row.subject_id, row.session_id, row.subject_id, row.session_id,  h))\n",
    "    vert, poly = np.array(mesh.vertex()) ,np.array(mesh.polygon())    \n",
    "    iSegm = aims.read('../../DerivedData/subjects/sub-{}/ses-{}/sub-{}_ses-{}_neoAtlas_corrected_left.gii'.format(\n",
    "                    row.subject_id, row.session_id, row.subject_id, row.session_id))\n",
    "    segm = np.array(iSegm)[0]\n",
    "    \n",
    "    for r, l in zip(R_labels, L_labels):\n",
    "        segm[segm == r] = l\n",
    "        \n",
    "    tex = aims.TimeTexture('FLOAT')  \n",
    "    for i in range(mesh.size()):\n",
    "        tex[i].assign(np.zeros((len(vert),), dtype=np.float32))\n",
    "        t = np.asarray(tex[i])\n",
    "        t[:] = segm[:]\n",
    "        \n",
    "    outf = '../../Results/figures/example_subject_vis/sub-{}_ses-{}_neoAtlas_corrected_{}_relabelled_to_match.gii'.format(row.subject_id, row.session_id, row.subject_id, row.session_id,  hemi)\n",
    "    aims.write(tex, outf)\n",
    "    \n",
    "    if os.path.isfile(outf):\n",
    "        print(row.subject_id, '{} DONE'.format(hemi))"
   ]
  },
  {
   "cell_type": "code",
   "execution_count": null,
   "metadata": {},
   "outputs": [],
   "source": []
  },
  {
   "cell_type": "code",
   "execution_count": null,
   "metadata": {},
   "outputs": [],
   "source": []
  },
  {
   "cell_type": "code",
   "execution_count": 1,
   "metadata": {},
   "outputs": [],
   "source": [
    "import pandas as pd \n",
    "import numpy as np\n",
    "from soma import aims\n",
    "import os"
   ]
  },
  {
   "cell_type": "code",
   "execution_count": 2,
   "metadata": {},
   "outputs": [],
   "source": [
    "## paleta vobec nefunguje lebo anatomist je pravdepodobne ten najhlupejsi software na visualizaciu, \n",
    "## skusim pre-labelovat jednu hemi na druhu aby som pouzila jednotnu schemu? \n",
    "sub = pd.read_csv('../../Scripts/data_processing/subj_for_visualisation.csv', names=['subject_id', 'session_id', 'template'])"
   ]
  },
  {
   "cell_type": "code",
   "execution_count": 13,
   "metadata": {},
   "outputs": [],
   "source": [
    "for i, row in sub[:1].iterrows():\n",
    "    h = 'R'\n",
    "    hemi ='right'\n",
    "    ## right\n",
    "    mesh = aims.read('/neurospin/grip/external_databases/dHCP_CR_JD_2018/release3/dhcp_anat_pipeline/sub-{}/ses-{}/anat/sub-{}_ses-{}_T2w_{}white_bv_transformed.gii'.format(row.subject_id, row.session_id, row.subject_id, row.session_id,  h))\n",
    "    vert, poly = np.array(mesh.vertex()) ,np.array(mesh.polygon())    \n",
    "    iSegm = aims.read('../../DerivedData/subjects/sub-{}/ses-{}/sub-{}_ses-{}_neoAtlas_corrected_right.gii'.format(\n",
    "                    row.subject_id, row.session_id, row.subject_id, row.session_id))\n",
    "    segm = np.array(iSegm)[0].astype(int)\n",
    "    \n",
    "    \n",
    "    tex = aims.TimeTexture('FLOAT')  \n",
    "    for i in range(mesh.size()):\n",
    "        tex[i].assign(np.zeros((len(vert),), dtype=int))\n",
    "        t = np.asarray(tex[i])\n",
    "        t[:] = segm[:]  \n",
    "        \n",
    "    outf = '../../Results/figures/example_subject_vis/CC00150AN/neoAtlas_{}_int.label.gii'.format( hemi)\n",
    "    aims.write(tex, outf)  \n",
    "    \n",
    "    \n",
    "    h = 'L'\n",
    "    hemi ='left'\n",
    "    ## right\n",
    "    mesh = aims.read('/neurospin/grip/external_databases/dHCP_CR_JD_2018/release3/dhcp_anat_pipeline/sub-{}/ses-{}/anat/sub-{}_ses-{}_T2w_{}white_bv_transformed.gii'.format(row.subject_id, row.session_id, row.subject_id, row.session_id,  h))\n",
    "    vert, poly = np.array(mesh.vertex()) ,np.array(mesh.polygon())    \n",
    "    iSegm = aims.read('../../DerivedData/subjects/sub-{}/ses-{}/sub-{}_ses-{}_neoAtlas_corrected_left.gii'.format(\n",
    "                    row.subject_id, row.session_id, row.subject_id, row.session_id))\n",
    "    segm = np.array(iSegm)[0].astype(int)\n",
    "    \n",
    "    \n",
    "    tex = aims.TimeTexture('FLOAT')  \n",
    "    for i in range(mesh.size()):\n",
    "        tex[i].assign(np.zeros((len(vert),), dtype=int))\n",
    "        t = np.asarray(tex[i])\n",
    "        t[:] = segm[:]  \n",
    "        \n",
    "    outf = '../../Results/figures/example_subject_vis/CC00150AN/neoAtlas_{}_int.label.gii'.format(  hemi)\n",
    "    aims.write(tex, outf)  "
   ]
  },
  {
   "cell_type": "code",
   "execution_count": 14,
   "metadata": {},
   "outputs": [
    {
     "data": {
      "text/plain": [
       "array([68, 68, 68, ...,  0,  0,  0])"
      ]
     },
     "execution_count": 14,
     "metadata": {},
     "output_type": "execute_result"
    }
   ],
   "source": [
    "segm"
   ]
  },
  {
   "cell_type": "code",
   "execution_count": null,
   "metadata": {},
   "outputs": [],
   "source": []
  }
 ],
 "metadata": {
  "kernelspec": {
   "display_name": "Python 2",
   "language": "python",
   "name": "python2"
  },
  "language_info": {
   "codemirror_mode": {
    "name": "ipython",
    "version": 2
   },
   "file_extension": ".py",
   "mimetype": "text/x-python",
   "name": "python",
   "nbconvert_exporter": "python",
   "pygments_lexer": "ipython2",
   "version": "2.7.17"
  }
 },
 "nbformat": 4,
 "nbformat_minor": 4
}
