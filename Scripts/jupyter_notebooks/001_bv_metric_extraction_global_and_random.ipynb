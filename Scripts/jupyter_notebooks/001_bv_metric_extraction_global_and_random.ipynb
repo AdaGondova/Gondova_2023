{
 "cells": [
  {
   "cell_type": "code",
   "execution_count": 1,
   "metadata": {},
   "outputs": [],
   "source": [
    "from soma import aims \n",
    "import matplotlib.pyplot as plt \n",
    "import numpy as np \n",
    "import pandas as pd\n",
    "import os, pickle"
   ]
  },
  {
   "cell_type": "code",
   "execution_count": 2,
   "metadata": {},
   "outputs": [],
   "source": [
    "subjects = pd.read_csv('../../DerivedData/replication_cohort_all_subjects_current.csv', \n",
    "                                         names=['subject_id', 'session_id', 'template'])\n",
    "\n",
    "def read_texture(path):\n",
    "    text_f = aims.read(path)\n",
    "    text_a = np.array(text_f)[0]\n",
    "    \n",
    "    return text_a"
   ]
  },
  {
   "cell_type": "markdown",
   "metadata": {},
   "source": [
    "### Getting global diffusion metric across the brain (excluding cingulate area)\n",
    "median!"
   ]
  },
  {
   "cell_type": "code",
   "execution_count": 3,
   "metadata": {},
   "outputs": [
    {
     "name": "stdout",
     "output_type": "stream",
     "text": [
      "Running 0/370\n",
      "Running 100/370\n",
      "Running 200/370\n",
      "Running 300/370\n"
     ]
    }
   ],
   "source": [
    "df = pd.DataFrame()\n",
    "for i, row in subjects.iterrows():   \n",
    "    if i % 100 == 0 :\n",
    "        print('Running {}/{}'.format(i,len(subjects)))\n",
    "        \n",
    "    segmentation = 64\n",
    "    for hemi in ['left', 'right']:\n",
    "        \n",
    "        ## use this to get location of cingulate\n",
    "        iDIR = '../../DerivedData/subjects/sub-{}/ses-{}'.format(row.subject_id, row.session_id)        \n",
    "        iFile = 'sub-{}_ses-{}_hemi-{}_pathKmeans_{}.label.gii'.format(row.subject_id, row.session_id, hemi, segmentation )\n",
    "        iSeg = os.path.join(iDIR, iFile)\n",
    "        \n",
    "        if os.path.isfile(iSeg):\n",
    "            segm = read_texture(iSeg)\n",
    "            cing_label = np.unique(segm)[-1]\n",
    "        \n",
    "            for metric in ['FA', 'L1', 'RD', 'MD']:\n",
    "                iMetric = os.path.join(iDIR, 'sub-{}_ses-{}_{}_texture_{}_majority.gii'.format(row.subject_id, row.session_id, \n",
    "                                                                                                   hemi, metric))\n",
    "                if os.path.isfile(iMetric):\n",
    "                    met = read_texture(iMetric)\n",
    "                \n",
    "                    df.loc[i, 'subject_id'] = row.subject_id\n",
    "                    df.loc[i, 'session_id'] = row.session_id\n",
    "                    #df.loc[i, '{}_{}'.format(hemi, metric)] = np.mean(met[segm!=cing_label].ravel())\n",
    "                    df.loc[i, '{}_{}'.format(hemi, metric)] = np.median(met[segm!=cing_label].ravel())\n",
    "                \n",
    "df['session_id'] = df['session_id'].astype(int)"
   ]
  },
  {
   "cell_type": "code",
   "execution_count": 4,
   "metadata": {},
   "outputs": [],
   "source": [
    "df.to_csv('../../DerivedData/extracted_metrics/global_cortical_diffusion_metrics_median.csv')\n",
    "\n",
    "# df = pd.read_csv('../../DerivedData/extracted_metrics/global_cortical_diffusion_metrics.csv')"
   ]
  },
  {
   "cell_type": "code",
   "execution_count": 10,
   "metadata": {},
   "outputs": [
    {
     "name": "stdout",
     "output_type": "stream",
     "text": [
      "Running 0/370\n",
      "Running 100/370\n",
      "Running 200/370\n",
      "Running 300/370\n"
     ]
    }
   ],
   "source": [
    "df = pd.DataFrame()\n",
    "for i, row in subjects.iterrows():   \n",
    "    if i % 100 == 0 :\n",
    "        print('Running {}/{}'.format(i,len(subjects)))\n",
    "        \n",
    "    segmentation = 64\n",
    "    for hemi in ['left', 'right']:\n",
    "        \n",
    "        ## use this to get location of cingulate\n",
    "        iDIR = '../../DerivedData/subjects/sub-{}/ses-{}'.format(row.subject_id, row.session_id)        \n",
    "        iFile = 'sub-{}_ses-{}_hemi-{}_pathKmeans_{}.label.gii'.format(row.subject_id, row.session_id, hemi, segmentation )\n",
    "        iSeg = os.path.join(iDIR, iFile)\n",
    "        \n",
    "        if os.path.isfile(iSeg):\n",
    "            segm = read_texture(iSeg)\n",
    "            cing_label = np.unique(segm)[-1]\n",
    "        \n",
    "            for metric in ['FA']:\n",
    "                iMetric = os.path.join(iDIR, 'sub-{}_ses-{}_{}_texture_{}.gii'.format(row.subject_id, row.session_id, \n",
    "                                                                                                   hemi, metric))\n",
    "                if os.path.isfile(iMetric):\n",
    "                    met = read_texture(iMetric)\n",
    "                \n",
    "                    df.loc[i, 'subject_id'] = row.subject_id\n",
    "                    df.loc[i, 'session_id'] = row.session_id\n",
    "                    #df.loc[i, '{}_{}'.format(hemi, metric)] = np.mean(met[segm!=cing_label].ravel())\n",
    "                    df.loc[i, '{}_{}'.format(hemi, metric)] = np.median(met[segm!=cing_label].ravel())\n",
    "                \n",
    "df['session_id'] = df['session_id'].astype(int)\n",
    "df.to_csv('../../DerivedData/extracted_metrics/global_cortical_FA_metrics_median_minAD.csv')"
   ]
  },
  {
   "cell_type": "markdown",
   "metadata": {},
   "source": [
    "### Setting up metric / random parcel diffusion extraction  \n",
    "#### in random parcellation, the largest label is cingulate area and should be removed"
   ]
  },
  {
   "cell_type": "code",
   "execution_count": 44,
   "metadata": {},
   "outputs": [
    {
     "name": "stdout",
     "output_type": "stream",
     "text": [
      "Running 0/376\n"
     ]
    },
    {
     "ename": "KeyboardInterrupt",
     "evalue": "",
     "output_type": "error",
     "traceback": [
      "\u001b[0;31m---------------------------------------------------------------------------\u001b[0m",
      "\u001b[0;31mKeyboardInterrupt\u001b[0m                         Traceback (most recent call last)",
      "\u001b[0;32m<ipython-input-44-8fec8a06c7bb>\u001b[0m in \u001b[0;36m<module>\u001b[0;34m()\u001b[0m\n\u001b[1;32m     22\u001b[0m                                                                                                    hemi, metric))\n\u001b[1;32m     23\u001b[0m                     \u001b[0;32mif\u001b[0m \u001b[0mos\u001b[0m\u001b[0;34m.\u001b[0m\u001b[0mpath\u001b[0m\u001b[0;34m.\u001b[0m\u001b[0misfile\u001b[0m\u001b[0;34m(\u001b[0m\u001b[0miMetric\u001b[0m\u001b[0;34m)\u001b[0m\u001b[0;34m:\u001b[0m\u001b[0;34m\u001b[0m\u001b[0m\n\u001b[0;32m---> 24\u001b[0;31m                         \u001b[0mmet\u001b[0m \u001b[0;34m=\u001b[0m \u001b[0mread_texture\u001b[0m\u001b[0;34m(\u001b[0m\u001b[0miMetric\u001b[0m\u001b[0;34m)\u001b[0m\u001b[0;34m\u001b[0m\u001b[0m\n\u001b[0m\u001b[1;32m     25\u001b[0m \u001b[0;34m\u001b[0m\u001b[0m\n\u001b[1;32m     26\u001b[0m                         \u001b[0mdf\u001b[0m\u001b[0;34m.\u001b[0m\u001b[0mloc\u001b[0m\u001b[0;34m[\u001b[0m\u001b[0mi\u001b[0m\u001b[0;34m,\u001b[0m \u001b[0;34m'subject_id'\u001b[0m\u001b[0;34m]\u001b[0m \u001b[0;34m=\u001b[0m \u001b[0mrow\u001b[0m\u001b[0;34m.\u001b[0m\u001b[0msubject_id\u001b[0m\u001b[0;34m\u001b[0m\u001b[0m\n",
      "\u001b[0;32m<ipython-input-15-f6bb1ed0c05d>\u001b[0m in \u001b[0;36mread_texture\u001b[0;34m(path)\u001b[0m\n\u001b[1;32m      1\u001b[0m \u001b[0;32mdef\u001b[0m \u001b[0mread_texture\u001b[0m\u001b[0;34m(\u001b[0m\u001b[0mpath\u001b[0m\u001b[0;34m)\u001b[0m\u001b[0;34m:\u001b[0m\u001b[0;34m\u001b[0m\u001b[0m\n\u001b[0;32m----> 2\u001b[0;31m     \u001b[0mtext_f\u001b[0m \u001b[0;34m=\u001b[0m \u001b[0maims\u001b[0m\u001b[0;34m.\u001b[0m\u001b[0mread\u001b[0m\u001b[0;34m(\u001b[0m\u001b[0mpath\u001b[0m\u001b[0;34m)\u001b[0m\u001b[0;34m\u001b[0m\u001b[0m\n\u001b[0m\u001b[1;32m      3\u001b[0m     \u001b[0mtext_a\u001b[0m \u001b[0;34m=\u001b[0m \u001b[0mnp\u001b[0m\u001b[0;34m.\u001b[0m\u001b[0marray\u001b[0m\u001b[0;34m(\u001b[0m\u001b[0mtext_f\u001b[0m\u001b[0;34m)\u001b[0m\u001b[0;34m[\u001b[0m\u001b[0;36m0\u001b[0m\u001b[0;34m]\u001b[0m\u001b[0;34m\u001b[0m\u001b[0m\n\u001b[1;32m      4\u001b[0m \u001b[0;34m\u001b[0m\u001b[0m\n\u001b[1;32m      5\u001b[0m     \u001b[0;32mreturn\u001b[0m \u001b[0mtext_a\u001b[0m\u001b[0;34m\u001b[0m\u001b[0m\n",
      "\u001b[0;32m/casa/install/python/soma/aims/__init__.py\u001b[0m in \u001b[0;36mread\u001b[0;34m(filename, border, frame, dtype, allocmode, options)\u001b[0m\n\u001b[1;32m    493\u001b[0m     '''\n\u001b[1;32m    494\u001b[0m     \u001b[0mr\u001b[0m \u001b[0;34m=\u001b[0m \u001b[0mReader\u001b[0m\u001b[0;34m(\u001b[0m\u001b[0mallocmode\u001b[0m\u001b[0;34m=\u001b[0m\u001b[0mallocmode\u001b[0m\u001b[0;34m,\u001b[0m \u001b[0moptions\u001b[0m\u001b[0;34m=\u001b[0m\u001b[0moptions\u001b[0m\u001b[0;34m)\u001b[0m\u001b[0;34m\u001b[0m\u001b[0m\n\u001b[0;32m--> 495\u001b[0;31m     \u001b[0;32mreturn\u001b[0m \u001b[0mr\u001b[0m\u001b[0;34m.\u001b[0m\u001b[0mread\u001b[0m\u001b[0;34m(\u001b[0m\u001b[0mfilename\u001b[0m\u001b[0;34m,\u001b[0m \u001b[0mborder\u001b[0m\u001b[0;34m=\u001b[0m\u001b[0mborder\u001b[0m\u001b[0;34m,\u001b[0m \u001b[0mframe\u001b[0m\u001b[0;34m=\u001b[0m\u001b[0mframe\u001b[0m\u001b[0;34m,\u001b[0m \u001b[0mdtype\u001b[0m\u001b[0;34m=\u001b[0m\u001b[0mdtype\u001b[0m\u001b[0;34m)\u001b[0m\u001b[0;34m\u001b[0m\u001b[0m\n\u001b[0m\u001b[1;32m    496\u001b[0m \u001b[0;34m\u001b[0m\u001b[0m\n\u001b[1;32m    497\u001b[0m \u001b[0;34m\u001b[0m\u001b[0m\n",
      "\u001b[0;32m/casa/install/python/soma/aims/__init__.py\u001b[0m in \u001b[0;36mread\u001b[0;34m(self, filename, border, frame, dtype)\u001b[0m\n\u001b[1;32m    394\u001b[0m                 \u001b[0mformat\u001b[0m \u001b[0;34m=\u001b[0m \u001b[0mself\u001b[0m\u001b[0;34m.\u001b[0m\u001b[0moptions\u001b[0m\u001b[0;34m[\u001b[0m\u001b[0;34m'format'\u001b[0m\u001b[0;34m]\u001b[0m\u001b[0;34m\u001b[0m\u001b[0m\n\u001b[1;32m    395\u001b[0m \u001b[0;34m\u001b[0m\u001b[0m\n\u001b[0;32m--> 396\u001b[0;31m         \u001b[0mresult\u001b[0m \u001b[0;34m=\u001b[0m \u001b[0mr\u001b[0m\u001b[0;34m.\u001b[0m\u001b[0mread\u001b[0m\u001b[0;34m(\u001b[0m\u001b[0mborder\u001b[0m\u001b[0;34m,\u001b[0m \u001b[0mformat\u001b[0m\u001b[0;34m,\u001b[0m \u001b[0mframe\u001b[0m\u001b[0;34m)\u001b[0m\u001b[0;34m\u001b[0m\u001b[0m\n\u001b[0m\u001b[1;32m    397\u001b[0m         \u001b[0;32mreturn\u001b[0m \u001b[0mresult\u001b[0m\u001b[0;34m\u001b[0m\u001b[0m\n\u001b[1;32m    398\u001b[0m \u001b[0;34m\u001b[0m\u001b[0m\n",
      "\u001b[0;32m/casa/install/python/soma/aims/__init__.py\u001b[0m in \u001b[0;36mRCObject_init\u001b[0;34m(self, *args)\u001b[0m\n\u001b[1;32m    202\u001b[0m \u001b[0;34m\u001b[0m\u001b[0m\n\u001b[1;32m    203\u001b[0m \u001b[0;34m\u001b[0m\u001b[0m\n\u001b[0;32m--> 204\u001b[0;31m \u001b[0;32mdef\u001b[0m \u001b[0mRCObject_init\u001b[0m\u001b[0;34m(\u001b[0m\u001b[0mself\u001b[0m\u001b[0;34m,\u001b[0m \u001b[0;34m*\u001b[0m\u001b[0margs\u001b[0m\u001b[0;34m)\u001b[0m\u001b[0;34m:\u001b[0m\u001b[0;34m\u001b[0m\u001b[0m\n\u001b[0m\u001b[1;32m    205\u001b[0m     \u001b[0;31m# print('RCObject init:', self)\u001b[0m\u001b[0;34m\u001b[0m\u001b[0;34m\u001b[0m\u001b[0m\n\u001b[1;32m    206\u001b[0m     \u001b[0mcarto\u001b[0m\u001b[0;34m.\u001b[0m\u001b[0mRCObject\u001b[0m\u001b[0;34m.\u001b[0m\u001b[0m__oldinit__\u001b[0m\u001b[0;34m(\u001b[0m\u001b[0mself\u001b[0m\u001b[0;34m,\u001b[0m \u001b[0;34m*\u001b[0m\u001b[0margs\u001b[0m\u001b[0;34m)\u001b[0m\u001b[0;34m\u001b[0m\u001b[0m\n",
      "\u001b[0;31mKeyboardInterrupt\u001b[0m: "
     ]
    }
   ],
   "source": [
    "\n",
    "for segmentation in [64]:#, 128, 256, 512]:\n",
    "    df = pd.DataFrame()\n",
    "    for i, row in subjects.iterrows():   \n",
    "        if i % 100 == 0 :\n",
    "            print('Running {}/{}'.format(i,len(subjects)))\n",
    "        for hemi in ['left', 'right']:\n",
    "            \n",
    "            iDIR = '../../DerivedData/subjects/sub-{}/ses-{}'.format(row.subject_id, row.session_id)        \n",
    "            iFile = 'sub-{}_ses-{}_hemi-{}_pathKmeans_{}.label.gii'.format(row.subject_id, row.session_id, hemi, segmentation )\n",
    "        \n",
    "            iSeg = os.path.join(iDIR, iFile)\n",
    "              \n",
    "            if os.path.isfile(iSeg):\n",
    "                \n",
    "                segm = read_texture(iSeg)\n",
    "                labels = np.unique(segm)[:-1]   \n",
    "\n",
    "                for metric in ['FA', 'L1', 'RD', 'MD']:\n",
    "                    \n",
    "                    iMetric = os.path.join(iDIR, 'sub-{}_ses-{}_{}_texture_{}_majority.gii'.format(row.subject_id, row.session_id, \n",
    "                                                                                                   hemi, metric))\n",
    "                    if os.path.isfile(iMetric):\n",
    "                        met = read_texture(iMetric)\n",
    "                \n",
    "                        df.loc[i, 'subject_id'] = row.subject_id\n",
    "                        df.loc[i, 'session_id'] = row.session_id\n",
    "                \n",
    "                \n",
    "                        for label in labels:\n",
    "                            df.loc[i, '{}_{}_{}'.format(hemi, label, metric)] = np.mean(met[segm==label].ravel()) \n",
    "                    else: \n",
    "                        print(row.subject_id, row.session_id, '{} file missing'.format(metric))\n",
    "            else:\n",
    "                print(row.subject_id, row.session_id, 'segmentation missing')\n",
    "                \n",
    "    df['session_id'] = df['session_id'].astype(int)\n",
    "    \n",
    "    df.to_csv('../../DerivedData/extracted_metrics/random_parcellation_{}_diffusion_metric.csv'.format(segmentation * 2))"
   ]
  },
  {
   "cell_type": "code",
   "execution_count": 9,
   "metadata": {},
   "outputs": [
    {
     "name": "stdout",
     "output_type": "stream",
     "text": [
      "Running 0/370\n",
      "Running 100/370\n",
      "Running 200/370\n",
      "Running 300/370\n",
      "Running 0/370\n",
      "Running 100/370\n",
      "Running 200/370\n",
      "Running 300/370\n",
      "Running 0/370\n",
      "Running 100/370\n",
      "Running 200/370\n",
      "Running 300/370\n",
      "Running 0/370\n",
      "Running 100/370\n",
      "Running 200/370\n",
      "Running 300/370\n"
     ]
    }
   ],
   "source": [
    "for segmentation in [64, 128, 256, 512]:\n",
    "    df = pd.DataFrame()\n",
    "    for i, row in subjects.iterrows():   \n",
    "        if i % 100 == 0 :\n",
    "            print('Running {}/{}'.format(i,len(subjects)))\n",
    "        for hemi in ['left', 'right']:\n",
    "            \n",
    "            iDIR = '../../DerivedData/subjects/sub-{}/ses-{}'.format(row.subject_id, row.session_id)        \n",
    "            iFile = 'sub-{}_ses-{}_hemi-{}_pathKmeans_{}.label.gii'.format(row.subject_id, row.session_id, hemi, segmentation )\n",
    "        \n",
    "            iSeg = os.path.join(iDIR, iFile)\n",
    "              \n",
    "            if os.path.isfile(iSeg):\n",
    "                \n",
    "                segm = read_texture(iSeg)\n",
    "                labels = np.unique(segm)[:-1]   \n",
    "\n",
    "                for metric in ['FA']:\n",
    "                    \n",
    "                    iMetric = os.path.join(iDIR, 'sub-{}_ses-{}_{}_texture_{}.gii'.format(row.subject_id, row.session_id, \n",
    "                                                                                                   hemi, metric))\n",
    "                    if os.path.isfile(iMetric):\n",
    "                        met = read_texture(iMetric)\n",
    "                \n",
    "                        df.loc[i, 'subject_id'] = row.subject_id\n",
    "                        df.loc[i, 'session_id'] = row.session_id\n",
    "                \n",
    "                \n",
    "                        for label in labels:\n",
    "                            df.loc[i, '{}_{}_{}'.format(hemi, label, metric)] = np.mean(met[segm==label].ravel()) \n",
    "                    else: \n",
    "                        print(row.subject_id, row.session_id, '{} file missing'.format(metric))\n",
    "            else:\n",
    "                print(row.subject_id, row.session_id, 'segmentation missing')\n",
    "                \n",
    "    df['session_id'] = df['session_id'].astype(int)\n",
    "    \n",
    "    df.to_csv('../../DerivedData/extracted_metrics/random_parcellation_{}_FA_median_minAD.csv'.format(segmentation * 2))"
   ]
  },
  {
   "cell_type": "markdown",
   "metadata": {},
   "source": [
    "### Setting up metric / segmented parcel diffusion extraction\n",
    "median vs mean"
   ]
  },
  {
   "cell_type": "code",
   "execution_count": 3,
   "metadata": {},
   "outputs": [
    {
     "name": "stdout",
     "output_type": "stream",
     "text": [
      "Running 0/370\n",
      "Running 100/370\n",
      "Running 200/370\n",
      "Running 300/370\n"
     ]
    }
   ],
   "source": [
    "missing = []\n",
    "\n",
    "df = pd.DataFrame()\n",
    "for i, row in subjects.iterrows():   \n",
    "    if i % 100 == 0 :\n",
    "        print('Running {}/{}'.format(i,len(subjects)))\n",
    "    \n",
    "    for hemi in ['left', 'right']:\n",
    "        iDIR = '../../DerivedData/subjects/sub-{}/ses-{}'.format(row.subject_id, row.session_id)        \n",
    "        iFile = 'sub-{}_ses-{}_neoAtlas_corrected_{}.gii'.format(row.subject_id, row.session_id, hemi )\n",
    "        \n",
    "        iSeg = os.path.join(iDIR, iFile)\n",
    "        if not os.path.isfile(iSeg):\n",
    "    \n",
    "            #print(row.subject_id, hemi , 'MISSING')\n",
    "            missing.append(row.subject_id)"
   ]
  },
  {
   "cell_type": "code",
   "execution_count": 6,
   "metadata": {},
   "outputs": [
    {
     "data": {
      "text/plain": [
       "[]"
      ]
     },
     "execution_count": 6,
     "metadata": {},
     "output_type": "execute_result"
    }
   ],
   "source": [
    "#sanity check\n",
    "with open('../../DerivedData/cohorts_subjects_list_python2.pickle', 'rb') as handle:\n",
    "    cohorts = pickle.load(handle)\n",
    "\n",
    "[miss for miss in missing if miss in cohorts['A'] ]"
   ]
  },
  {
   "cell_type": "code",
   "execution_count": 7,
   "metadata": {},
   "outputs": [
    {
     "name": "stdout",
     "output_type": "stream",
     "text": [
      "Running 0/370\n",
      "('CC00100XX01', 35000, 'segmentation missing')\n",
      "('CC00100XX01', 35000, 'segmentation missing')\n",
      "('CC00109XX10', 36901, 'segmentation missing')\n",
      "('CC00109XX10', 36901, 'segmentation missing')\n",
      "('CC00139XX16', 49101, 'segmentation missing')\n",
      "('CC00139XX16', 49101, 'segmentation missing')\n",
      "('CC00154XX06', 50700, 'segmentation missing')\n",
      "('CC00154XX06', 50700, 'segmentation missing')\n",
      "('CC00171XX07', 56300, 'segmentation missing')\n",
      "('CC00171XX07', 56300, 'segmentation missing')\n",
      "('CC00189XX17', 62301, 'segmentation missing')\n",
      "('CC00189XX17', 62301, 'segmentation missing')\n",
      "('CC00223XX09', 75900, 'segmentation missing')\n",
      "('CC00223XX09', 75900, 'segmentation missing')\n",
      "Running 100/370\n",
      "('CC00399XX21', 123400, 'segmentation missing')\n",
      "('CC00399XX21', 123400, 'segmentation missing')\n",
      "Running 200/370\n",
      "('CC00538XX19', 157200, 'segmentation missing')\n",
      "('CC00538XX19', 157200, 'segmentation missing')\n",
      "('CC00566XX14', 164500, 'segmentation missing')\n",
      "('CC00566XX14', 164500, 'segmentation missing')\n",
      "('CC00765XX15', 8210, 'segmentation missing')\n",
      "('CC00765XX15', 8210, 'segmentation missing')\n",
      "Running 300/370\n",
      "('CC00947XX24', 43430, 'segmentation missing')\n",
      "('CC00947XX24', 43430, 'segmentation missing')\n",
      "('CC01194XX16', 149530, 'segmentation missing')\n",
      "('CC01194XX16', 149530, 'segmentation missing')\n"
     ]
    }
   ],
   "source": [
    "df = pd.DataFrame()\n",
    "for i, row in subjects.iterrows():   \n",
    "    if i % 100 == 0 :\n",
    "        print('Running {}/{}'.format(i,len(subjects)))\n",
    "    \n",
    "    for hemi in ['left', 'right']:\n",
    "        iDIR = '../../DerivedData/subjects/sub-{}/ses-{}'.format(row.subject_id, row.session_id)        \n",
    "        iFile = 'sub-{}_ses-{}_neoAtlas_corrected_{}.gii'.format(row.subject_id, row.session_id, hemi )\n",
    "        \n",
    "        iSeg = os.path.join(iDIR, iFile)\n",
    "        if os.path.isfile(iSeg):\n",
    "            segm = read_texture(iSeg)\n",
    "            ## first one is cingular pole so remove\n",
    "            labels = np.unique(segm)[1:]   \n",
    "            \n",
    "            for metric in ['FA', 'L1', 'RD', 'MD']:\n",
    "                    \n",
    "                iMetric = os.path.join(iDIR, 'sub-{}_ses-{}_{}_texture_{}_majority.gii'.format(row.subject_id, row.session_id, \n",
    "                                                                                                   hemi, metric))\n",
    "                if os.path.isfile(iMetric):\n",
    "                    met = read_texture(iMetric)\n",
    "                \n",
    "                    df.loc[i, 'subject_id'] = row.subject_id\n",
    "                    df.loc[i, 'session_id'] = row.session_id\n",
    "                \n",
    "                \n",
    "                    for label in labels:\n",
    "                        #df.loc[i, '{}_{}_{}'.format(hemi, int(label), metric)] = np.mean(met[segm==label].ravel()) \n",
    "                        df.loc[i, '{}_{}_{}'.format(hemi, int(label), metric)] = np.median(met[segm==label].ravel()) \n",
    "                else: \n",
    "                    print(row.subject_id, row.session_id, '{} file missing'.format(metric))\n",
    "        else:\n",
    "            print(row.subject_id, row.session_id, 'segmentation missing')\n",
    "                \n",
    "    df['session_id'] = df['session_id'].astype(int)\n",
    "    \n",
    "df.to_csv('../../DerivedData/extracted_metrics/neonat_segmentation_diffusion_metric_median.csv')\n",
    "    "
   ]
  },
  {
   "cell_type": "code",
   "execution_count": 4,
   "metadata": {},
   "outputs": [
    {
     "name": "stdout",
     "output_type": "stream",
     "text": [
      "Running 0/370\n",
      "('CC00100XX01', 35000, 'segmentation missing')\n",
      "('CC00100XX01', 35000, 'segmentation missing')\n",
      "('CC00109XX10', 36901, 'segmentation missing')\n",
      "('CC00109XX10', 36901, 'segmentation missing')\n",
      "('CC00139XX16', 49101, 'segmentation missing')\n",
      "('CC00139XX16', 49101, 'segmentation missing')\n",
      "('CC00154XX06', 50700, 'segmentation missing')\n",
      "('CC00154XX06', 50700, 'segmentation missing')\n",
      "('CC00171XX07', 56300, 'segmentation missing')\n",
      "('CC00171XX07', 56300, 'segmentation missing')\n",
      "('CC00189XX17', 62301, 'segmentation missing')\n",
      "('CC00189XX17', 62301, 'segmentation missing')\n",
      "('CC00223XX09', 75900, 'segmentation missing')\n",
      "('CC00223XX09', 75900, 'segmentation missing')\n",
      "Running 100/370\n",
      "('CC00399XX21', 123400, 'segmentation missing')\n",
      "('CC00399XX21', 123400, 'segmentation missing')\n",
      "Running 200/370\n",
      "('CC00538XX19', 157200, 'segmentation missing')\n",
      "('CC00538XX19', 157200, 'segmentation missing')\n",
      "('CC00566XX14', 164500, 'segmentation missing')\n",
      "('CC00566XX14', 164500, 'segmentation missing')\n",
      "('CC00765XX15', 8210, 'segmentation missing')\n",
      "('CC00765XX15', 8210, 'segmentation missing')\n",
      "Running 300/370\n",
      "('CC00947XX24', 43430, 'segmentation missing')\n",
      "('CC00947XX24', 43430, 'segmentation missing')\n",
      "('CC01194XX16', 149530, 'segmentation missing')\n",
      "('CC01194XX16', 149530, 'segmentation missing')\n"
     ]
    }
   ],
   "source": [
    "df = pd.DataFrame()\n",
    "for i, row in subjects.iterrows():   \n",
    "    if i % 100 == 0 :\n",
    "        print('Running {}/{}'.format(i,len(subjects)))\n",
    "    \n",
    "    for hemi in ['left', 'right']:\n",
    "        iDIR = '../../DerivedData/subjects/sub-{}/ses-{}'.format(row.subject_id, row.session_id)        \n",
    "        iFile = 'sub-{}_ses-{}_neoAtlas_corrected_{}.gii'.format(row.subject_id, row.session_id, hemi )\n",
    "        \n",
    "        iSeg = os.path.join(iDIR, iFile)\n",
    "        if os.path.isfile(iSeg):\n",
    "            segm = read_texture(iSeg)\n",
    "            ## first one is cingular pole so remove\n",
    "            labels = np.unique(segm)[1:]   \n",
    "            \n",
    "            for metric in ['FA']:\n",
    "                    \n",
    "                iMetric = os.path.join(iDIR, 'sub-{}_ses-{}_{}_texture_{}.gii'.format(row.subject_id, row.session_id, \n",
    "                                                                                                   hemi, metric))\n",
    "                if os.path.isfile(iMetric):\n",
    "                    met = read_texture(iMetric)\n",
    "                \n",
    "                    df.loc[i, 'subject_id'] = row.subject_id\n",
    "                    df.loc[i, 'session_id'] = row.session_id\n",
    "                \n",
    "                \n",
    "                    for label in labels:\n",
    "                        #df.loc[i, '{}_{}_{}'.format(hemi, int(label), metric)] = np.mean(met[segm==label].ravel()) \n",
    "                        df.loc[i, '{}_{}_{}'.format(hemi, int(label), metric)] = np.median(met[segm==label].ravel()) \n",
    "                else: \n",
    "                    print(row.subject_id, row.session_id, '{} file missing'.format(metric))\n",
    "        else:\n",
    "            print(row.subject_id, row.session_id, 'segmentation missing')\n",
    "                \n",
    "    df['session_id'] = df['session_id'].astype(int)\n",
    "    \n",
    "df.to_csv('../../DerivedData/extracted_metrics/neonat_segmentation_FA_median_minAD.csv')\n",
    "    "
   ]
  },
  {
   "cell_type": "code",
   "execution_count": 7,
   "metadata": {},
   "outputs": [],
   "source": [
    "cols = [col for col in df.columns if 'FA' in col]\n",
    "df = df[df.subject_id.isin(cohorts['A'])]\n",
    "scheme = pd.read_csv('../../SourceData/atlas_labelling_scheme.csv')"
   ]
  },
  {
   "cell_type": "code",
   "execution_count": 8,
   "metadata": {
    "scrolled": false
   },
   "outputs": [
    {
     "data": {
      "image/png": "[encoded data removed]",
      "text/plain": [
       "<Figure size 1296x432 with 1 Axes>"
      ]
     },
     "metadata": {},
     "output_type": "display_data"
    }
   ],
   "source": [
    "lbs = [name.split('_')[1] for name in cols]\n",
    "names = [scheme[scheme.Label == int(l)]['Abbreviation'].values[0] + ' ' +  scheme[scheme.Label == int(l)]['Hemisphere'].values[0]for l in lbs]\n",
    "\n",
    "fig, ax = plt.subplots( figsize=(18,6))\n",
    "\n",
    "plt.boxplot( [df[~df[col].isna()][col].values for col in cols])\n",
    "plt.xticks(range(1,len(cols)+1),names, rotation=90 )\n",
    "\n",
    "ax.spines['top'].set_visible(False)\n",
    "ax.spines['right'].set_visible(False)\n",
    "fig.set_facecolor(\"white\")\n",
    "\n",
    "plt.ylabel('FA', fontsize=18)\n",
    "plt.title('Cohort A: median metric distribution per cortical region', fontsize=18)\n",
    "\n",
    "#plt.savefig('../../Results/figures/cohort_descriptions/diffusion_metrics_distribution_cohortA_neonat_segm_median.png', dpi=500)\n",
    "plt.savefig('../../Results/figures/cohort_descriptions/FA_distribution_cohortA_neonat_segm_median.png', dpi=500)\n",
    "plt.show()"
   ]
  },
  {
   "cell_type": "code",
   "execution_count": null,
   "metadata": {},
   "outputs": [],
   "source": []
  },
  {
   "cell_type": "code",
   "execution_count": null,
   "metadata": {},
   "outputs": [],
   "source": []
  }
 ],
 "metadata": {
  "kernelspec": {
   "display_name": "Python 2",
   "language": "python",
   "name": "python2"
  },
  "language_info": {
   "codemirror_mode": {
    "name": "ipython",
    "version": 2
   },
   "file_extension": ".py",
   "mimetype": "text/x-python",
   "name": "python",
   "nbconvert_exporter": "python",
   "pygments_lexer": "ipython2",
   "version": "2.7.17"
  }
 },
 "nbformat": 4,
 "nbformat_minor": 2
}
